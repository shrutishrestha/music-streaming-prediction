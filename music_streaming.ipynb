{
  "nbformat": 4,
  "nbformat_minor": 0,
  "metadata": {
    "colab": {
      "name": "music streaming.ipynb",
      "provenance": [],
      "collapsed_sections": []
    },
    "kernelspec": {
      "name": "python3",
      "display_name": "Python 3"
    },
    "language_info": {
      "name": "python"
    }
  },
  "cells": [
    {
      "cell_type": "code",
      "execution_count": 49,
      "metadata": {
        "id": "hUTD1wwgJX9y"
      },
      "outputs": [],
      "source": [
        "import numpy as np\n",
        "import pandas as pd\n",
        "\n",
        "from sklearn.preprocessing import LabelEncoder\n",
        "from sklearn.model_selection import train_test_split\n",
        "from sklearn.linear_model import LinearRegression\n",
        "from sklearn.linear_model import Lasso\n",
        "from sklearn.linear_model import Ridge\n",
        "from sklearn.ensemble import RandomForestRegressor\n",
        "from sklearn.svm import SVR\n",
        "from sklearn.metrics import r2_score\n",
        "\n",
        "from keras.callbacks import ModelCheckpoint\n",
        "from keras.models import Sequential\n",
        "from keras.layers import Dense,Activation, Flatten\n",
        "\n",
        "import matplotlib.pyplot as plt\n",
        "import seaborn as sns"
      ]
    },
    {
      "cell_type": "code",
      "source": [
        "dataset = pd.read_csv(\"/content/spotify_dataset.csv\")\n",
        "dataset_copy = dataset.copy()\n",
        "df_cols = dataset.columns"
      ],
      "metadata": {
        "id": "wZLExFBAMj8V"
      },
      "execution_count": 50,
      "outputs": []
    },
    {
      "cell_type": "code",
      "source": [
        "dataset.info()"
      ],
      "metadata": {
        "id": "flXQC89JMyg0",
        "colab": {
          "base_uri": "https://localhost:8080/"
        },
        "outputId": "5c01c224-55ee-4703-8ef2-b99c456e22c3"
      },
      "execution_count": 51,
      "outputs": [
        {
          "output_type": "stream",
          "name": "stdout",
          "text": [
            "<class 'pandas.core.frame.DataFrame'>\n",
            "RangeIndex: 1556 entries, 0 to 1555\n",
            "Data columns (total 23 columns):\n",
            " #   Column                     Non-Null Count  Dtype \n",
            "---  ------                     --------------  ----- \n",
            " 0   Index                      1556 non-null   int64 \n",
            " 1   Highest Charting Position  1556 non-null   int64 \n",
            " 2   Number of Times Charted    1556 non-null   int64 \n",
            " 3   Week of Highest Charting   1556 non-null   object\n",
            " 4   Song Name                  1556 non-null   object\n",
            " 5   Streams                    1556 non-null   object\n",
            " 6   Artist                     1556 non-null   object\n",
            " 7   Artist Followers           1556 non-null   object\n",
            " 8   Song ID                    1556 non-null   object\n",
            " 9   Genre                      1556 non-null   object\n",
            " 10  Release Date               1556 non-null   object\n",
            " 11  Weeks Charted              1556 non-null   object\n",
            " 12  Popularity                 1556 non-null   object\n",
            " 13  Danceability               1556 non-null   object\n",
            " 14  Energy                     1556 non-null   object\n",
            " 15  Loudness                   1556 non-null   object\n",
            " 16  Speechiness                1556 non-null   object\n",
            " 17  Acousticness               1556 non-null   object\n",
            " 18  Liveness                   1556 non-null   object\n",
            " 19  Tempo                      1556 non-null   object\n",
            " 20  Duration (ms)              1556 non-null   object\n",
            " 21  Valence                    1556 non-null   object\n",
            " 22  Chord                      1556 non-null   object\n",
            "dtypes: int64(3), object(20)\n",
            "memory usage: 279.7+ KB\n"
          ]
        }
      ]
    },
    {
      "cell_type": "code",
      "source": [
        "dataset.isnull().sum()"
      ],
      "metadata": {
        "id": "ropX963La3xw",
        "colab": {
          "base_uri": "https://localhost:8080/"
        },
        "outputId": "64faea82-ef28-40f1-938f-47ae6ddd0cca"
      },
      "execution_count": 52,
      "outputs": [
        {
          "output_type": "execute_result",
          "data": {
            "text/plain": [
              "Index                        0\n",
              "Highest Charting Position    0\n",
              "Number of Times Charted      0\n",
              "Week of Highest Charting     0\n",
              "Song Name                    0\n",
              "Streams                      0\n",
              "Artist                       0\n",
              "Artist Followers             0\n",
              "Song ID                      0\n",
              "Genre                        0\n",
              "Release Date                 0\n",
              "Weeks Charted                0\n",
              "Popularity                   0\n",
              "Danceability                 0\n",
              "Energy                       0\n",
              "Loudness                     0\n",
              "Speechiness                  0\n",
              "Acousticness                 0\n",
              "Liveness                     0\n",
              "Tempo                        0\n",
              "Duration (ms)                0\n",
              "Valence                      0\n",
              "Chord                        0\n",
              "dtype: int64"
            ]
          },
          "metadata": {},
          "execution_count": 52
        }
      ]
    },
    {
      "cell_type": "code",
      "source": [
        "dataset.head(1)"
      ],
      "metadata": {
        "id": "d4WIxF4-QfFN",
        "colab": {
          "base_uri": "https://localhost:8080/",
          "height": 297
        },
        "outputId": "104e9ac8-b1b3-43f3-dc38-083c14c97157"
      },
      "execution_count": 53,
      "outputs": [
        {
          "output_type": "execute_result",
          "data": {
            "text/html": [
              "\n",
              "  <div id=\"df-f5dfe602-d23b-4229-be8a-f9e4c16d4d44\">\n",
              "    <div class=\"colab-df-container\">\n",
              "      <div>\n",
              "<style scoped>\n",
              "    .dataframe tbody tr th:only-of-type {\n",
              "        vertical-align: middle;\n",
              "    }\n",
              "\n",
              "    .dataframe tbody tr th {\n",
              "        vertical-align: top;\n",
              "    }\n",
              "\n",
              "    .dataframe thead th {\n",
              "        text-align: right;\n",
              "    }\n",
              "</style>\n",
              "<table border=\"1\" class=\"dataframe\">\n",
              "  <thead>\n",
              "    <tr style=\"text-align: right;\">\n",
              "      <th></th>\n",
              "      <th>Index</th>\n",
              "      <th>Highest Charting Position</th>\n",
              "      <th>Number of Times Charted</th>\n",
              "      <th>Week of Highest Charting</th>\n",
              "      <th>Song Name</th>\n",
              "      <th>Streams</th>\n",
              "      <th>Artist</th>\n",
              "      <th>Artist Followers</th>\n",
              "      <th>Song ID</th>\n",
              "      <th>Genre</th>\n",
              "      <th>Release Date</th>\n",
              "      <th>Weeks Charted</th>\n",
              "      <th>Popularity</th>\n",
              "      <th>Danceability</th>\n",
              "      <th>Energy</th>\n",
              "      <th>Loudness</th>\n",
              "      <th>Speechiness</th>\n",
              "      <th>Acousticness</th>\n",
              "      <th>Liveness</th>\n",
              "      <th>Tempo</th>\n",
              "      <th>Duration (ms)</th>\n",
              "      <th>Valence</th>\n",
              "      <th>Chord</th>\n",
              "    </tr>\n",
              "  </thead>\n",
              "  <tbody>\n",
              "    <tr>\n",
              "      <th>0</th>\n",
              "      <td>1</td>\n",
              "      <td>1</td>\n",
              "      <td>8</td>\n",
              "      <td>2021-07-23--2021-07-30</td>\n",
              "      <td>Beggin'</td>\n",
              "      <td>48,633,449</td>\n",
              "      <td>Måneskin</td>\n",
              "      <td>3377762</td>\n",
              "      <td>3Wrjm47oTz2sjIgck11l5e</td>\n",
              "      <td>['indie rock italiano', 'italian pop']</td>\n",
              "      <td>2017-12-08</td>\n",
              "      <td>2021-07-23--2021-07-30\\n2021-07-16--2021-07-23...</td>\n",
              "      <td>100</td>\n",
              "      <td>0.714</td>\n",
              "      <td>0.8</td>\n",
              "      <td>-4.808</td>\n",
              "      <td>0.0504</td>\n",
              "      <td>0.127</td>\n",
              "      <td>0.359</td>\n",
              "      <td>134.002</td>\n",
              "      <td>211560</td>\n",
              "      <td>0.589</td>\n",
              "      <td>B</td>\n",
              "    </tr>\n",
              "  </tbody>\n",
              "</table>\n",
              "</div>\n",
              "      <button class=\"colab-df-convert\" onclick=\"convertToInteractive('df-f5dfe602-d23b-4229-be8a-f9e4c16d4d44')\"\n",
              "              title=\"Convert this dataframe to an interactive table.\"\n",
              "              style=\"display:none;\">\n",
              "        \n",
              "  <svg xmlns=\"http://www.w3.org/2000/svg\" height=\"24px\"viewBox=\"0 0 24 24\"\n",
              "       width=\"24px\">\n",
              "    <path d=\"M0 0h24v24H0V0z\" fill=\"none\"/>\n",
              "    <path d=\"M18.56 5.44l.94 2.06.94-2.06 2.06-.94-2.06-.94-.94-2.06-.94 2.06-2.06.94zm-11 1L8.5 8.5l.94-2.06 2.06-.94-2.06-.94L8.5 2.5l-.94 2.06-2.06.94zm10 10l.94 2.06.94-2.06 2.06-.94-2.06-.94-.94-2.06-.94 2.06-2.06.94z\"/><path d=\"M17.41 7.96l-1.37-1.37c-.4-.4-.92-.59-1.43-.59-.52 0-1.04.2-1.43.59L10.3 9.45l-7.72 7.72c-.78.78-.78 2.05 0 2.83L4 21.41c.39.39.9.59 1.41.59.51 0 1.02-.2 1.41-.59l7.78-7.78 2.81-2.81c.8-.78.8-2.07 0-2.86zM5.41 20L4 18.59l7.72-7.72 1.47 1.35L5.41 20z\"/>\n",
              "  </svg>\n",
              "      </button>\n",
              "      \n",
              "  <style>\n",
              "    .colab-df-container {\n",
              "      display:flex;\n",
              "      flex-wrap:wrap;\n",
              "      gap: 12px;\n",
              "    }\n",
              "\n",
              "    .colab-df-convert {\n",
              "      background-color: #E8F0FE;\n",
              "      border: none;\n",
              "      border-radius: 50%;\n",
              "      cursor: pointer;\n",
              "      display: none;\n",
              "      fill: #1967D2;\n",
              "      height: 32px;\n",
              "      padding: 0 0 0 0;\n",
              "      width: 32px;\n",
              "    }\n",
              "\n",
              "    .colab-df-convert:hover {\n",
              "      background-color: #E2EBFA;\n",
              "      box-shadow: 0px 1px 2px rgba(60, 64, 67, 0.3), 0px 1px 3px 1px rgba(60, 64, 67, 0.15);\n",
              "      fill: #174EA6;\n",
              "    }\n",
              "\n",
              "    [theme=dark] .colab-df-convert {\n",
              "      background-color: #3B4455;\n",
              "      fill: #D2E3FC;\n",
              "    }\n",
              "\n",
              "    [theme=dark] .colab-df-convert:hover {\n",
              "      background-color: #434B5C;\n",
              "      box-shadow: 0px 1px 3px 1px rgba(0, 0, 0, 0.15);\n",
              "      filter: drop-shadow(0px 1px 2px rgba(0, 0, 0, 0.3));\n",
              "      fill: #FFFFFF;\n",
              "    }\n",
              "  </style>\n",
              "\n",
              "      <script>\n",
              "        const buttonEl =\n",
              "          document.querySelector('#df-f5dfe602-d23b-4229-be8a-f9e4c16d4d44 button.colab-df-convert');\n",
              "        buttonEl.style.display =\n",
              "          google.colab.kernel.accessAllowed ? 'block' : 'none';\n",
              "\n",
              "        async function convertToInteractive(key) {\n",
              "          const element = document.querySelector('#df-f5dfe602-d23b-4229-be8a-f9e4c16d4d44');\n",
              "          const dataTable =\n",
              "            await google.colab.kernel.invokeFunction('convertToInteractive',\n",
              "                                                     [key], {});\n",
              "          if (!dataTable) return;\n",
              "\n",
              "          const docLinkHtml = 'Like what you see? Visit the ' +\n",
              "            '<a target=\"_blank\" href=https://colab.research.google.com/notebooks/data_table.ipynb>data table notebook</a>'\n",
              "            + ' to learn more about interactive tables.';\n",
              "          element.innerHTML = '';\n",
              "          dataTable['output_type'] = 'display_data';\n",
              "          await google.colab.output.renderOutput(dataTable, element);\n",
              "          const docLink = document.createElement('div');\n",
              "          docLink.innerHTML = docLinkHtml;\n",
              "          element.appendChild(docLink);\n",
              "        }\n",
              "      </script>\n",
              "    </div>\n",
              "  </div>\n",
              "  "
            ],
            "text/plain": [
              "   Index  Highest Charting Position  ...  Valence Chord\n",
              "0      1                          1  ...    0.589     B\n",
              "\n",
              "[1 rows x 23 columns]"
            ]
          },
          "metadata": {},
          "execution_count": 53
        }
      ]
    },
    {
      "cell_type": "code",
      "source": [
        "dataset['Genre']"
      ],
      "metadata": {
        "id": "HVoLSI4QvyHD",
        "colab": {
          "base_uri": "https://localhost:8080/"
        },
        "outputId": "151572b0-ffba-4365-fdfa-7bf20808dc6a"
      },
      "execution_count": 54,
      "outputs": [
        {
          "output_type": "execute_result",
          "data": {
            "text/plain": [
              "0                  ['indie rock italiano', 'italian pop']\n",
              "1                                  ['australian hip hop']\n",
              "2                                                 ['pop']\n",
              "3                                       ['pop', 'uk pop']\n",
              "4                           ['lgbtq+ hip hop', 'pop rap']\n",
              "                              ...                        \n",
              "1551                       ['dance pop', 'pop', 'uk pop']\n",
              "1552             ['sertanejo', 'sertanejo universitario']\n",
              "1553    ['dance pop', 'electropop', 'pop', 'post-teen ...\n",
              "1554                       ['brega funk', 'funk carioca']\n",
              "1555                             ['pop', 'post-teen pop']\n",
              "Name: Genre, Length: 1556, dtype: object"
            ]
          },
          "metadata": {},
          "execution_count": 54
        }
      ]
    },
    {
      "cell_type": "code",
      "source": [
        "genre_list = []\n",
        "def clean_alt_list(list_):\n",
        "    list_ = list_.replace('[', '')\n",
        "    list_ = list_.replace(']', '')\n",
        "    split = list_.split(\",\")\n",
        "    for item in split:\n",
        "      item = item.replace(\" '\",\"\")\n",
        "      item = item.replace(\" '\",\"\")\n",
        "      item = item.replace(\"'\",\"\")\n",
        "      genre_list.append(item)\n",
        "    return genre_list\n",
        "\n",
        "for i in dataset['Genre']:\n",
        "  genre_list = clean_alt_list(i)\n",
        "\n",
        "len(genre_list)"
      ],
      "metadata": {
        "id": "FGfG_y12yBp5",
        "colab": {
          "base_uri": "https://localhost:8080/"
        },
        "outputId": "3d65adc5-f3c5-49fc-b557-6c894f04d9da"
      },
      "execution_count": 55,
      "outputs": [
        {
          "output_type": "execute_result",
          "data": {
            "text/plain": [
              "4665"
            ]
          },
          "metadata": {},
          "execution_count": 55
        }
      ]
    },
    {
      "cell_type": "code",
      "source": [
        "def boolean_df(item_lists, unique_items):\n",
        "# Create empty dict\n",
        "    bool_dict = {}\n",
        "    \n",
        "    # Loop through all the tags\n",
        "    for i, item in enumerate(unique_items):\n",
        "        \n",
        "        # Apply boolean mask\n",
        "        bool_dict[item] = item_lists.apply(lambda x: item in x)\n",
        "            \n",
        "    # Return the results as a dataframe\n",
        "    return pd.DataFrame(bool_dict)\n",
        "\n",
        "genre_new = boolean_df(dataset['Genre'], genre_list)"
      ],
      "metadata": {
        "id": "8ICK_L6pcFck"
      },
      "execution_count": 56,
      "outputs": []
    },
    {
      "cell_type": "code",
      "source": [
        "genre_new\n",
        "genre_new = (genre_new== 'TRUE').astype(int)"
      ],
      "metadata": {
        "id": "2cllGZ6s08WC"
      },
      "execution_count": 57,
      "outputs": []
    },
    {
      "cell_type": "code",
      "source": [
        "genre_df = pd.DataFrame(genre_new)"
      ],
      "metadata": {
        "id": "eRUuLYr73kBQ"
      },
      "execution_count": 58,
      "outputs": []
    },
    {
      "cell_type": "code",
      "source": [
        "genre_df"
      ],
      "metadata": {
        "id": "n_IVp1cB3taK",
        "colab": {
          "base_uri": "https://localhost:8080/",
          "height": 534
        },
        "outputId": "03f8020b-e0f7-4e7e-b0ac-f0a88d358d51"
      },
      "execution_count": 64,
      "outputs": [
        {
          "output_type": "execute_result",
          "data": {
            "text/html": [
              "\n",
              "  <div id=\"df-e2088808-7769-4d91-9aee-29a0362d4bed\">\n",
              "    <div class=\"colab-df-container\">\n",
              "      <div>\n",
              "<style scoped>\n",
              "    .dataframe tbody tr th:only-of-type {\n",
              "        vertical-align: middle;\n",
              "    }\n",
              "\n",
              "    .dataframe tbody tr th {\n",
              "        vertical-align: top;\n",
              "    }\n",
              "\n",
              "    .dataframe thead th {\n",
              "        text-align: right;\n",
              "    }\n",
              "</style>\n",
              "<table border=\"1\" class=\"dataframe\">\n",
              "  <thead>\n",
              "    <tr style=\"text-align: right;\">\n",
              "      <th></th>\n",
              "      <th>indie rock italiano</th>\n",
              "      <th>italian pop</th>\n",
              "      <th>australian hip hop</th>\n",
              "      <th>pop</th>\n",
              "      <th>uk pop</th>\n",
              "      <th>lgbtq+ hip hop</th>\n",
              "      <th>pop rap</th>\n",
              "      <th>dance pop</th>\n",
              "      <th>puerto rican pop</th>\n",
              "      <th>trap latino</th>\n",
              "      <th>latin</th>\n",
              "      <th>reggaeton</th>\n",
              "      <th>reggaeton colombiano</th>\n",
              "      <th>k-pop</th>\n",
              "      <th>k-pop boy group</th>\n",
              "      <th>canadian pop</th>\n",
              "      <th>post-teen pop</th>\n",
              "      <th>canadian contemporary r&amp;b</th>\n",
              "      <th>gauze pop</th>\n",
              "      <th>indietronica</th>\n",
              "      <th>shiver pop</th>\n",
              "      <th>latin hip hop</th>\n",
              "      <th>dfw rap</th>\n",
              "      <th>melodic rap</th>\n",
              "      <th>rap</th>\n",
              "      <th>house</th>\n",
              "      <th>pop dance</th>\n",
              "      <th>tropical house</th>\n",
              "      <th>uk dance</th>\n",
              "      <th>electropop</th>\n",
              "      <th>colombian pop</th>\n",
              "      <th></th>\n",
              "      <th>chicago rap</th>\n",
              "      <th>panamanian pop</th>\n",
              "      <th>latin pop</th>\n",
              "      <th>pop argentino</th>\n",
              "      <th>big room</th>\n",
              "      <th>brostep</th>\n",
              "      <th>dutch edm</th>\n",
              "      <th>edm</th>\n",
              "      <th>...</th>\n",
              "      <th>r&amp;b en espanol</th>\n",
              "      <th>pop reggaeton</th>\n",
              "      <th>trap chileno</th>\n",
              "      <th>west coast rap</th>\n",
              "      <th>jazz funk</th>\n",
              "      <th>belgian hip hop</th>\n",
              "      <th>rap belge</th>\n",
              "      <th>r&amp;b brasileiro</th>\n",
              "      <th>rap cearense</th>\n",
              "      <th>trap brasileiro</th>\n",
              "      <th>scandipop</th>\n",
              "      <th>swedish pop</th>\n",
              "      <th>indie r&amp;b</th>\n",
              "      <th>jawaiian</th>\n",
              "      <th>florida rap</th>\n",
              "      <th>acoustic pop</th>\n",
              "      <th>german cloud rap</th>\n",
              "      <th>perreo</th>\n",
              "      <th>christlicher rap</th>\n",
              "      <th>philly rap</th>\n",
              "      <th>indie rockism</th>\n",
              "      <th>german underground rap</th>\n",
              "      <th>k-rap</th>\n",
              "      <th>chicago drill</th>\n",
              "      <th>drill</th>\n",
              "      <th>banda</th>\n",
              "      <th>corrido</th>\n",
              "      <th>norteno</th>\n",
              "      <th>alternative pop rock</th>\n",
              "      <th>minnesota hip hop</th>\n",
              "      <th>albanian hip hop</th>\n",
              "      <th>venezuelan hip hop</th>\n",
              "      <th>meme rap</th>\n",
              "      <th>grime</th>\n",
              "      <th>brega funk</th>\n",
              "      <th>moombahton</th>\n",
              "      <th>pittsburgh rap</th>\n",
              "      <th>new orleans rap</th>\n",
              "      <th>deep german hip hop</th>\n",
              "      <th>turkish trap</th>\n",
              "    </tr>\n",
              "  </thead>\n",
              "  <tbody>\n",
              "    <tr>\n",
              "      <th>0</th>\n",
              "      <td>0</td>\n",
              "      <td>0</td>\n",
              "      <td>0</td>\n",
              "      <td>0</td>\n",
              "      <td>0</td>\n",
              "      <td>0</td>\n",
              "      <td>0</td>\n",
              "      <td>0</td>\n",
              "      <td>0</td>\n",
              "      <td>0</td>\n",
              "      <td>0</td>\n",
              "      <td>0</td>\n",
              "      <td>0</td>\n",
              "      <td>0</td>\n",
              "      <td>0</td>\n",
              "      <td>0</td>\n",
              "      <td>0</td>\n",
              "      <td>0</td>\n",
              "      <td>0</td>\n",
              "      <td>0</td>\n",
              "      <td>0</td>\n",
              "      <td>0</td>\n",
              "      <td>0</td>\n",
              "      <td>0</td>\n",
              "      <td>0</td>\n",
              "      <td>0</td>\n",
              "      <td>0</td>\n",
              "      <td>0</td>\n",
              "      <td>0</td>\n",
              "      <td>0</td>\n",
              "      <td>0</td>\n",
              "      <td>0</td>\n",
              "      <td>0</td>\n",
              "      <td>0</td>\n",
              "      <td>0</td>\n",
              "      <td>0</td>\n",
              "      <td>0</td>\n",
              "      <td>0</td>\n",
              "      <td>0</td>\n",
              "      <td>0</td>\n",
              "      <td>...</td>\n",
              "      <td>0</td>\n",
              "      <td>0</td>\n",
              "      <td>0</td>\n",
              "      <td>0</td>\n",
              "      <td>0</td>\n",
              "      <td>0</td>\n",
              "      <td>0</td>\n",
              "      <td>0</td>\n",
              "      <td>0</td>\n",
              "      <td>0</td>\n",
              "      <td>0</td>\n",
              "      <td>0</td>\n",
              "      <td>0</td>\n",
              "      <td>0</td>\n",
              "      <td>0</td>\n",
              "      <td>0</td>\n",
              "      <td>0</td>\n",
              "      <td>0</td>\n",
              "      <td>0</td>\n",
              "      <td>0</td>\n",
              "      <td>0</td>\n",
              "      <td>0</td>\n",
              "      <td>0</td>\n",
              "      <td>0</td>\n",
              "      <td>0</td>\n",
              "      <td>0</td>\n",
              "      <td>0</td>\n",
              "      <td>0</td>\n",
              "      <td>0</td>\n",
              "      <td>0</td>\n",
              "      <td>0</td>\n",
              "      <td>0</td>\n",
              "      <td>0</td>\n",
              "      <td>0</td>\n",
              "      <td>0</td>\n",
              "      <td>0</td>\n",
              "      <td>0</td>\n",
              "      <td>0</td>\n",
              "      <td>0</td>\n",
              "      <td>0</td>\n",
              "    </tr>\n",
              "    <tr>\n",
              "      <th>1</th>\n",
              "      <td>0</td>\n",
              "      <td>0</td>\n",
              "      <td>0</td>\n",
              "      <td>0</td>\n",
              "      <td>0</td>\n",
              "      <td>0</td>\n",
              "      <td>0</td>\n",
              "      <td>0</td>\n",
              "      <td>0</td>\n",
              "      <td>0</td>\n",
              "      <td>0</td>\n",
              "      <td>0</td>\n",
              "      <td>0</td>\n",
              "      <td>0</td>\n",
              "      <td>0</td>\n",
              "      <td>0</td>\n",
              "      <td>0</td>\n",
              "      <td>0</td>\n",
              "      <td>0</td>\n",
              "      <td>0</td>\n",
              "      <td>0</td>\n",
              "      <td>0</td>\n",
              "      <td>0</td>\n",
              "      <td>0</td>\n",
              "      <td>0</td>\n",
              "      <td>0</td>\n",
              "      <td>0</td>\n",
              "      <td>0</td>\n",
              "      <td>0</td>\n",
              "      <td>0</td>\n",
              "      <td>0</td>\n",
              "      <td>0</td>\n",
              "      <td>0</td>\n",
              "      <td>0</td>\n",
              "      <td>0</td>\n",
              "      <td>0</td>\n",
              "      <td>0</td>\n",
              "      <td>0</td>\n",
              "      <td>0</td>\n",
              "      <td>0</td>\n",
              "      <td>...</td>\n",
              "      <td>0</td>\n",
              "      <td>0</td>\n",
              "      <td>0</td>\n",
              "      <td>0</td>\n",
              "      <td>0</td>\n",
              "      <td>0</td>\n",
              "      <td>0</td>\n",
              "      <td>0</td>\n",
              "      <td>0</td>\n",
              "      <td>0</td>\n",
              "      <td>0</td>\n",
              "      <td>0</td>\n",
              "      <td>0</td>\n",
              "      <td>0</td>\n",
              "      <td>0</td>\n",
              "      <td>0</td>\n",
              "      <td>0</td>\n",
              "      <td>0</td>\n",
              "      <td>0</td>\n",
              "      <td>0</td>\n",
              "      <td>0</td>\n",
              "      <td>0</td>\n",
              "      <td>0</td>\n",
              "      <td>0</td>\n",
              "      <td>0</td>\n",
              "      <td>0</td>\n",
              "      <td>0</td>\n",
              "      <td>0</td>\n",
              "      <td>0</td>\n",
              "      <td>0</td>\n",
              "      <td>0</td>\n",
              "      <td>0</td>\n",
              "      <td>0</td>\n",
              "      <td>0</td>\n",
              "      <td>0</td>\n",
              "      <td>0</td>\n",
              "      <td>0</td>\n",
              "      <td>0</td>\n",
              "      <td>0</td>\n",
              "      <td>0</td>\n",
              "    </tr>\n",
              "    <tr>\n",
              "      <th>2</th>\n",
              "      <td>0</td>\n",
              "      <td>0</td>\n",
              "      <td>0</td>\n",
              "      <td>0</td>\n",
              "      <td>0</td>\n",
              "      <td>0</td>\n",
              "      <td>0</td>\n",
              "      <td>0</td>\n",
              "      <td>0</td>\n",
              "      <td>0</td>\n",
              "      <td>0</td>\n",
              "      <td>0</td>\n",
              "      <td>0</td>\n",
              "      <td>0</td>\n",
              "      <td>0</td>\n",
              "      <td>0</td>\n",
              "      <td>0</td>\n",
              "      <td>0</td>\n",
              "      <td>0</td>\n",
              "      <td>0</td>\n",
              "      <td>0</td>\n",
              "      <td>0</td>\n",
              "      <td>0</td>\n",
              "      <td>0</td>\n",
              "      <td>0</td>\n",
              "      <td>0</td>\n",
              "      <td>0</td>\n",
              "      <td>0</td>\n",
              "      <td>0</td>\n",
              "      <td>0</td>\n",
              "      <td>0</td>\n",
              "      <td>0</td>\n",
              "      <td>0</td>\n",
              "      <td>0</td>\n",
              "      <td>0</td>\n",
              "      <td>0</td>\n",
              "      <td>0</td>\n",
              "      <td>0</td>\n",
              "      <td>0</td>\n",
              "      <td>0</td>\n",
              "      <td>...</td>\n",
              "      <td>0</td>\n",
              "      <td>0</td>\n",
              "      <td>0</td>\n",
              "      <td>0</td>\n",
              "      <td>0</td>\n",
              "      <td>0</td>\n",
              "      <td>0</td>\n",
              "      <td>0</td>\n",
              "      <td>0</td>\n",
              "      <td>0</td>\n",
              "      <td>0</td>\n",
              "      <td>0</td>\n",
              "      <td>0</td>\n",
              "      <td>0</td>\n",
              "      <td>0</td>\n",
              "      <td>0</td>\n",
              "      <td>0</td>\n",
              "      <td>0</td>\n",
              "      <td>0</td>\n",
              "      <td>0</td>\n",
              "      <td>0</td>\n",
              "      <td>0</td>\n",
              "      <td>0</td>\n",
              "      <td>0</td>\n",
              "      <td>0</td>\n",
              "      <td>0</td>\n",
              "      <td>0</td>\n",
              "      <td>0</td>\n",
              "      <td>0</td>\n",
              "      <td>0</td>\n",
              "      <td>0</td>\n",
              "      <td>0</td>\n",
              "      <td>0</td>\n",
              "      <td>0</td>\n",
              "      <td>0</td>\n",
              "      <td>0</td>\n",
              "      <td>0</td>\n",
              "      <td>0</td>\n",
              "      <td>0</td>\n",
              "      <td>0</td>\n",
              "    </tr>\n",
              "    <tr>\n",
              "      <th>3</th>\n",
              "      <td>0</td>\n",
              "      <td>0</td>\n",
              "      <td>0</td>\n",
              "      <td>0</td>\n",
              "      <td>0</td>\n",
              "      <td>0</td>\n",
              "      <td>0</td>\n",
              "      <td>0</td>\n",
              "      <td>0</td>\n",
              "      <td>0</td>\n",
              "      <td>0</td>\n",
              "      <td>0</td>\n",
              "      <td>0</td>\n",
              "      <td>0</td>\n",
              "      <td>0</td>\n",
              "      <td>0</td>\n",
              "      <td>0</td>\n",
              "      <td>0</td>\n",
              "      <td>0</td>\n",
              "      <td>0</td>\n",
              "      <td>0</td>\n",
              "      <td>0</td>\n",
              "      <td>0</td>\n",
              "      <td>0</td>\n",
              "      <td>0</td>\n",
              "      <td>0</td>\n",
              "      <td>0</td>\n",
              "      <td>0</td>\n",
              "      <td>0</td>\n",
              "      <td>0</td>\n",
              "      <td>0</td>\n",
              "      <td>0</td>\n",
              "      <td>0</td>\n",
              "      <td>0</td>\n",
              "      <td>0</td>\n",
              "      <td>0</td>\n",
              "      <td>0</td>\n",
              "      <td>0</td>\n",
              "      <td>0</td>\n",
              "      <td>0</td>\n",
              "      <td>...</td>\n",
              "      <td>0</td>\n",
              "      <td>0</td>\n",
              "      <td>0</td>\n",
              "      <td>0</td>\n",
              "      <td>0</td>\n",
              "      <td>0</td>\n",
              "      <td>0</td>\n",
              "      <td>0</td>\n",
              "      <td>0</td>\n",
              "      <td>0</td>\n",
              "      <td>0</td>\n",
              "      <td>0</td>\n",
              "      <td>0</td>\n",
              "      <td>0</td>\n",
              "      <td>0</td>\n",
              "      <td>0</td>\n",
              "      <td>0</td>\n",
              "      <td>0</td>\n",
              "      <td>0</td>\n",
              "      <td>0</td>\n",
              "      <td>0</td>\n",
              "      <td>0</td>\n",
              "      <td>0</td>\n",
              "      <td>0</td>\n",
              "      <td>0</td>\n",
              "      <td>0</td>\n",
              "      <td>0</td>\n",
              "      <td>0</td>\n",
              "      <td>0</td>\n",
              "      <td>0</td>\n",
              "      <td>0</td>\n",
              "      <td>0</td>\n",
              "      <td>0</td>\n",
              "      <td>0</td>\n",
              "      <td>0</td>\n",
              "      <td>0</td>\n",
              "      <td>0</td>\n",
              "      <td>0</td>\n",
              "      <td>0</td>\n",
              "      <td>0</td>\n",
              "    </tr>\n",
              "    <tr>\n",
              "      <th>4</th>\n",
              "      <td>0</td>\n",
              "      <td>0</td>\n",
              "      <td>0</td>\n",
              "      <td>0</td>\n",
              "      <td>0</td>\n",
              "      <td>0</td>\n",
              "      <td>0</td>\n",
              "      <td>0</td>\n",
              "      <td>0</td>\n",
              "      <td>0</td>\n",
              "      <td>0</td>\n",
              "      <td>0</td>\n",
              "      <td>0</td>\n",
              "      <td>0</td>\n",
              "      <td>0</td>\n",
              "      <td>0</td>\n",
              "      <td>0</td>\n",
              "      <td>0</td>\n",
              "      <td>0</td>\n",
              "      <td>0</td>\n",
              "      <td>0</td>\n",
              "      <td>0</td>\n",
              "      <td>0</td>\n",
              "      <td>0</td>\n",
              "      <td>0</td>\n",
              "      <td>0</td>\n",
              "      <td>0</td>\n",
              "      <td>0</td>\n",
              "      <td>0</td>\n",
              "      <td>0</td>\n",
              "      <td>0</td>\n",
              "      <td>0</td>\n",
              "      <td>0</td>\n",
              "      <td>0</td>\n",
              "      <td>0</td>\n",
              "      <td>0</td>\n",
              "      <td>0</td>\n",
              "      <td>0</td>\n",
              "      <td>0</td>\n",
              "      <td>0</td>\n",
              "      <td>...</td>\n",
              "      <td>0</td>\n",
              "      <td>0</td>\n",
              "      <td>0</td>\n",
              "      <td>0</td>\n",
              "      <td>0</td>\n",
              "      <td>0</td>\n",
              "      <td>0</td>\n",
              "      <td>0</td>\n",
              "      <td>0</td>\n",
              "      <td>0</td>\n",
              "      <td>0</td>\n",
              "      <td>0</td>\n",
              "      <td>0</td>\n",
              "      <td>0</td>\n",
              "      <td>0</td>\n",
              "      <td>0</td>\n",
              "      <td>0</td>\n",
              "      <td>0</td>\n",
              "      <td>0</td>\n",
              "      <td>0</td>\n",
              "      <td>0</td>\n",
              "      <td>0</td>\n",
              "      <td>0</td>\n",
              "      <td>0</td>\n",
              "      <td>0</td>\n",
              "      <td>0</td>\n",
              "      <td>0</td>\n",
              "      <td>0</td>\n",
              "      <td>0</td>\n",
              "      <td>0</td>\n",
              "      <td>0</td>\n",
              "      <td>0</td>\n",
              "      <td>0</td>\n",
              "      <td>0</td>\n",
              "      <td>0</td>\n",
              "      <td>0</td>\n",
              "      <td>0</td>\n",
              "      <td>0</td>\n",
              "      <td>0</td>\n",
              "      <td>0</td>\n",
              "    </tr>\n",
              "    <tr>\n",
              "      <th>...</th>\n",
              "      <td>...</td>\n",
              "      <td>...</td>\n",
              "      <td>...</td>\n",
              "      <td>...</td>\n",
              "      <td>...</td>\n",
              "      <td>...</td>\n",
              "      <td>...</td>\n",
              "      <td>...</td>\n",
              "      <td>...</td>\n",
              "      <td>...</td>\n",
              "      <td>...</td>\n",
              "      <td>...</td>\n",
              "      <td>...</td>\n",
              "      <td>...</td>\n",
              "      <td>...</td>\n",
              "      <td>...</td>\n",
              "      <td>...</td>\n",
              "      <td>...</td>\n",
              "      <td>...</td>\n",
              "      <td>...</td>\n",
              "      <td>...</td>\n",
              "      <td>...</td>\n",
              "      <td>...</td>\n",
              "      <td>...</td>\n",
              "      <td>...</td>\n",
              "      <td>...</td>\n",
              "      <td>...</td>\n",
              "      <td>...</td>\n",
              "      <td>...</td>\n",
              "      <td>...</td>\n",
              "      <td>...</td>\n",
              "      <td>...</td>\n",
              "      <td>...</td>\n",
              "      <td>...</td>\n",
              "      <td>...</td>\n",
              "      <td>...</td>\n",
              "      <td>...</td>\n",
              "      <td>...</td>\n",
              "      <td>...</td>\n",
              "      <td>...</td>\n",
              "      <td>...</td>\n",
              "      <td>...</td>\n",
              "      <td>...</td>\n",
              "      <td>...</td>\n",
              "      <td>...</td>\n",
              "      <td>...</td>\n",
              "      <td>...</td>\n",
              "      <td>...</td>\n",
              "      <td>...</td>\n",
              "      <td>...</td>\n",
              "      <td>...</td>\n",
              "      <td>...</td>\n",
              "      <td>...</td>\n",
              "      <td>...</td>\n",
              "      <td>...</td>\n",
              "      <td>...</td>\n",
              "      <td>...</td>\n",
              "      <td>...</td>\n",
              "      <td>...</td>\n",
              "      <td>...</td>\n",
              "      <td>...</td>\n",
              "      <td>...</td>\n",
              "      <td>...</td>\n",
              "      <td>...</td>\n",
              "      <td>...</td>\n",
              "      <td>...</td>\n",
              "      <td>...</td>\n",
              "      <td>...</td>\n",
              "      <td>...</td>\n",
              "      <td>...</td>\n",
              "      <td>...</td>\n",
              "      <td>...</td>\n",
              "      <td>...</td>\n",
              "      <td>...</td>\n",
              "      <td>...</td>\n",
              "      <td>...</td>\n",
              "      <td>...</td>\n",
              "      <td>...</td>\n",
              "      <td>...</td>\n",
              "      <td>...</td>\n",
              "      <td>...</td>\n",
              "    </tr>\n",
              "    <tr>\n",
              "      <th>1551</th>\n",
              "      <td>0</td>\n",
              "      <td>0</td>\n",
              "      <td>0</td>\n",
              "      <td>0</td>\n",
              "      <td>0</td>\n",
              "      <td>0</td>\n",
              "      <td>0</td>\n",
              "      <td>0</td>\n",
              "      <td>0</td>\n",
              "      <td>0</td>\n",
              "      <td>0</td>\n",
              "      <td>0</td>\n",
              "      <td>0</td>\n",
              "      <td>0</td>\n",
              "      <td>0</td>\n",
              "      <td>0</td>\n",
              "      <td>0</td>\n",
              "      <td>0</td>\n",
              "      <td>0</td>\n",
              "      <td>0</td>\n",
              "      <td>0</td>\n",
              "      <td>0</td>\n",
              "      <td>0</td>\n",
              "      <td>0</td>\n",
              "      <td>0</td>\n",
              "      <td>0</td>\n",
              "      <td>0</td>\n",
              "      <td>0</td>\n",
              "      <td>0</td>\n",
              "      <td>0</td>\n",
              "      <td>0</td>\n",
              "      <td>0</td>\n",
              "      <td>0</td>\n",
              "      <td>0</td>\n",
              "      <td>0</td>\n",
              "      <td>0</td>\n",
              "      <td>0</td>\n",
              "      <td>0</td>\n",
              "      <td>0</td>\n",
              "      <td>0</td>\n",
              "      <td>...</td>\n",
              "      <td>0</td>\n",
              "      <td>0</td>\n",
              "      <td>0</td>\n",
              "      <td>0</td>\n",
              "      <td>0</td>\n",
              "      <td>0</td>\n",
              "      <td>0</td>\n",
              "      <td>0</td>\n",
              "      <td>0</td>\n",
              "      <td>0</td>\n",
              "      <td>0</td>\n",
              "      <td>0</td>\n",
              "      <td>0</td>\n",
              "      <td>0</td>\n",
              "      <td>0</td>\n",
              "      <td>0</td>\n",
              "      <td>0</td>\n",
              "      <td>0</td>\n",
              "      <td>0</td>\n",
              "      <td>0</td>\n",
              "      <td>0</td>\n",
              "      <td>0</td>\n",
              "      <td>0</td>\n",
              "      <td>0</td>\n",
              "      <td>0</td>\n",
              "      <td>0</td>\n",
              "      <td>0</td>\n",
              "      <td>0</td>\n",
              "      <td>0</td>\n",
              "      <td>0</td>\n",
              "      <td>0</td>\n",
              "      <td>0</td>\n",
              "      <td>0</td>\n",
              "      <td>0</td>\n",
              "      <td>0</td>\n",
              "      <td>0</td>\n",
              "      <td>0</td>\n",
              "      <td>0</td>\n",
              "      <td>0</td>\n",
              "      <td>0</td>\n",
              "    </tr>\n",
              "    <tr>\n",
              "      <th>1552</th>\n",
              "      <td>0</td>\n",
              "      <td>0</td>\n",
              "      <td>0</td>\n",
              "      <td>0</td>\n",
              "      <td>0</td>\n",
              "      <td>0</td>\n",
              "      <td>0</td>\n",
              "      <td>0</td>\n",
              "      <td>0</td>\n",
              "      <td>0</td>\n",
              "      <td>0</td>\n",
              "      <td>0</td>\n",
              "      <td>0</td>\n",
              "      <td>0</td>\n",
              "      <td>0</td>\n",
              "      <td>0</td>\n",
              "      <td>0</td>\n",
              "      <td>0</td>\n",
              "      <td>0</td>\n",
              "      <td>0</td>\n",
              "      <td>0</td>\n",
              "      <td>0</td>\n",
              "      <td>0</td>\n",
              "      <td>0</td>\n",
              "      <td>0</td>\n",
              "      <td>0</td>\n",
              "      <td>0</td>\n",
              "      <td>0</td>\n",
              "      <td>0</td>\n",
              "      <td>0</td>\n",
              "      <td>0</td>\n",
              "      <td>0</td>\n",
              "      <td>0</td>\n",
              "      <td>0</td>\n",
              "      <td>0</td>\n",
              "      <td>0</td>\n",
              "      <td>0</td>\n",
              "      <td>0</td>\n",
              "      <td>0</td>\n",
              "      <td>0</td>\n",
              "      <td>...</td>\n",
              "      <td>0</td>\n",
              "      <td>0</td>\n",
              "      <td>0</td>\n",
              "      <td>0</td>\n",
              "      <td>0</td>\n",
              "      <td>0</td>\n",
              "      <td>0</td>\n",
              "      <td>0</td>\n",
              "      <td>0</td>\n",
              "      <td>0</td>\n",
              "      <td>0</td>\n",
              "      <td>0</td>\n",
              "      <td>0</td>\n",
              "      <td>0</td>\n",
              "      <td>0</td>\n",
              "      <td>0</td>\n",
              "      <td>0</td>\n",
              "      <td>0</td>\n",
              "      <td>0</td>\n",
              "      <td>0</td>\n",
              "      <td>0</td>\n",
              "      <td>0</td>\n",
              "      <td>0</td>\n",
              "      <td>0</td>\n",
              "      <td>0</td>\n",
              "      <td>0</td>\n",
              "      <td>0</td>\n",
              "      <td>0</td>\n",
              "      <td>0</td>\n",
              "      <td>0</td>\n",
              "      <td>0</td>\n",
              "      <td>0</td>\n",
              "      <td>0</td>\n",
              "      <td>0</td>\n",
              "      <td>0</td>\n",
              "      <td>0</td>\n",
              "      <td>0</td>\n",
              "      <td>0</td>\n",
              "      <td>0</td>\n",
              "      <td>0</td>\n",
              "    </tr>\n",
              "    <tr>\n",
              "      <th>1553</th>\n",
              "      <td>0</td>\n",
              "      <td>0</td>\n",
              "      <td>0</td>\n",
              "      <td>0</td>\n",
              "      <td>0</td>\n",
              "      <td>0</td>\n",
              "      <td>0</td>\n",
              "      <td>0</td>\n",
              "      <td>0</td>\n",
              "      <td>0</td>\n",
              "      <td>0</td>\n",
              "      <td>0</td>\n",
              "      <td>0</td>\n",
              "      <td>0</td>\n",
              "      <td>0</td>\n",
              "      <td>0</td>\n",
              "      <td>0</td>\n",
              "      <td>0</td>\n",
              "      <td>0</td>\n",
              "      <td>0</td>\n",
              "      <td>0</td>\n",
              "      <td>0</td>\n",
              "      <td>0</td>\n",
              "      <td>0</td>\n",
              "      <td>0</td>\n",
              "      <td>0</td>\n",
              "      <td>0</td>\n",
              "      <td>0</td>\n",
              "      <td>0</td>\n",
              "      <td>0</td>\n",
              "      <td>0</td>\n",
              "      <td>0</td>\n",
              "      <td>0</td>\n",
              "      <td>0</td>\n",
              "      <td>0</td>\n",
              "      <td>0</td>\n",
              "      <td>0</td>\n",
              "      <td>0</td>\n",
              "      <td>0</td>\n",
              "      <td>0</td>\n",
              "      <td>...</td>\n",
              "      <td>0</td>\n",
              "      <td>0</td>\n",
              "      <td>0</td>\n",
              "      <td>0</td>\n",
              "      <td>0</td>\n",
              "      <td>0</td>\n",
              "      <td>0</td>\n",
              "      <td>0</td>\n",
              "      <td>0</td>\n",
              "      <td>0</td>\n",
              "      <td>0</td>\n",
              "      <td>0</td>\n",
              "      <td>0</td>\n",
              "      <td>0</td>\n",
              "      <td>0</td>\n",
              "      <td>0</td>\n",
              "      <td>0</td>\n",
              "      <td>0</td>\n",
              "      <td>0</td>\n",
              "      <td>0</td>\n",
              "      <td>0</td>\n",
              "      <td>0</td>\n",
              "      <td>0</td>\n",
              "      <td>0</td>\n",
              "      <td>0</td>\n",
              "      <td>0</td>\n",
              "      <td>0</td>\n",
              "      <td>0</td>\n",
              "      <td>0</td>\n",
              "      <td>0</td>\n",
              "      <td>0</td>\n",
              "      <td>0</td>\n",
              "      <td>0</td>\n",
              "      <td>0</td>\n",
              "      <td>0</td>\n",
              "      <td>0</td>\n",
              "      <td>0</td>\n",
              "      <td>0</td>\n",
              "      <td>0</td>\n",
              "      <td>0</td>\n",
              "    </tr>\n",
              "    <tr>\n",
              "      <th>1554</th>\n",
              "      <td>0</td>\n",
              "      <td>0</td>\n",
              "      <td>0</td>\n",
              "      <td>0</td>\n",
              "      <td>0</td>\n",
              "      <td>0</td>\n",
              "      <td>0</td>\n",
              "      <td>0</td>\n",
              "      <td>0</td>\n",
              "      <td>0</td>\n",
              "      <td>0</td>\n",
              "      <td>0</td>\n",
              "      <td>0</td>\n",
              "      <td>0</td>\n",
              "      <td>0</td>\n",
              "      <td>0</td>\n",
              "      <td>0</td>\n",
              "      <td>0</td>\n",
              "      <td>0</td>\n",
              "      <td>0</td>\n",
              "      <td>0</td>\n",
              "      <td>0</td>\n",
              "      <td>0</td>\n",
              "      <td>0</td>\n",
              "      <td>0</td>\n",
              "      <td>0</td>\n",
              "      <td>0</td>\n",
              "      <td>0</td>\n",
              "      <td>0</td>\n",
              "      <td>0</td>\n",
              "      <td>0</td>\n",
              "      <td>0</td>\n",
              "      <td>0</td>\n",
              "      <td>0</td>\n",
              "      <td>0</td>\n",
              "      <td>0</td>\n",
              "      <td>0</td>\n",
              "      <td>0</td>\n",
              "      <td>0</td>\n",
              "      <td>0</td>\n",
              "      <td>...</td>\n",
              "      <td>0</td>\n",
              "      <td>0</td>\n",
              "      <td>0</td>\n",
              "      <td>0</td>\n",
              "      <td>0</td>\n",
              "      <td>0</td>\n",
              "      <td>0</td>\n",
              "      <td>0</td>\n",
              "      <td>0</td>\n",
              "      <td>0</td>\n",
              "      <td>0</td>\n",
              "      <td>0</td>\n",
              "      <td>0</td>\n",
              "      <td>0</td>\n",
              "      <td>0</td>\n",
              "      <td>0</td>\n",
              "      <td>0</td>\n",
              "      <td>0</td>\n",
              "      <td>0</td>\n",
              "      <td>0</td>\n",
              "      <td>0</td>\n",
              "      <td>0</td>\n",
              "      <td>0</td>\n",
              "      <td>0</td>\n",
              "      <td>0</td>\n",
              "      <td>0</td>\n",
              "      <td>0</td>\n",
              "      <td>0</td>\n",
              "      <td>0</td>\n",
              "      <td>0</td>\n",
              "      <td>0</td>\n",
              "      <td>0</td>\n",
              "      <td>0</td>\n",
              "      <td>0</td>\n",
              "      <td>0</td>\n",
              "      <td>0</td>\n",
              "      <td>0</td>\n",
              "      <td>0</td>\n",
              "      <td>0</td>\n",
              "      <td>0</td>\n",
              "    </tr>\n",
              "    <tr>\n",
              "      <th>1555</th>\n",
              "      <td>0</td>\n",
              "      <td>0</td>\n",
              "      <td>0</td>\n",
              "      <td>0</td>\n",
              "      <td>0</td>\n",
              "      <td>0</td>\n",
              "      <td>0</td>\n",
              "      <td>0</td>\n",
              "      <td>0</td>\n",
              "      <td>0</td>\n",
              "      <td>0</td>\n",
              "      <td>0</td>\n",
              "      <td>0</td>\n",
              "      <td>0</td>\n",
              "      <td>0</td>\n",
              "      <td>0</td>\n",
              "      <td>0</td>\n",
              "      <td>0</td>\n",
              "      <td>0</td>\n",
              "      <td>0</td>\n",
              "      <td>0</td>\n",
              "      <td>0</td>\n",
              "      <td>0</td>\n",
              "      <td>0</td>\n",
              "      <td>0</td>\n",
              "      <td>0</td>\n",
              "      <td>0</td>\n",
              "      <td>0</td>\n",
              "      <td>0</td>\n",
              "      <td>0</td>\n",
              "      <td>0</td>\n",
              "      <td>0</td>\n",
              "      <td>0</td>\n",
              "      <td>0</td>\n",
              "      <td>0</td>\n",
              "      <td>0</td>\n",
              "      <td>0</td>\n",
              "      <td>0</td>\n",
              "      <td>0</td>\n",
              "      <td>0</td>\n",
              "      <td>...</td>\n",
              "      <td>0</td>\n",
              "      <td>0</td>\n",
              "      <td>0</td>\n",
              "      <td>0</td>\n",
              "      <td>0</td>\n",
              "      <td>0</td>\n",
              "      <td>0</td>\n",
              "      <td>0</td>\n",
              "      <td>0</td>\n",
              "      <td>0</td>\n",
              "      <td>0</td>\n",
              "      <td>0</td>\n",
              "      <td>0</td>\n",
              "      <td>0</td>\n",
              "      <td>0</td>\n",
              "      <td>0</td>\n",
              "      <td>0</td>\n",
              "      <td>0</td>\n",
              "      <td>0</td>\n",
              "      <td>0</td>\n",
              "      <td>0</td>\n",
              "      <td>0</td>\n",
              "      <td>0</td>\n",
              "      <td>0</td>\n",
              "      <td>0</td>\n",
              "      <td>0</td>\n",
              "      <td>0</td>\n",
              "      <td>0</td>\n",
              "      <td>0</td>\n",
              "      <td>0</td>\n",
              "      <td>0</td>\n",
              "      <td>0</td>\n",
              "      <td>0</td>\n",
              "      <td>0</td>\n",
              "      <td>0</td>\n",
              "      <td>0</td>\n",
              "      <td>0</td>\n",
              "      <td>0</td>\n",
              "      <td>0</td>\n",
              "      <td>0</td>\n",
              "    </tr>\n",
              "  </tbody>\n",
              "</table>\n",
              "<p>1556 rows × 336 columns</p>\n",
              "</div>\n",
              "      <button class=\"colab-df-convert\" onclick=\"convertToInteractive('df-e2088808-7769-4d91-9aee-29a0362d4bed')\"\n",
              "              title=\"Convert this dataframe to an interactive table.\"\n",
              "              style=\"display:none;\">\n",
              "        \n",
              "  <svg xmlns=\"http://www.w3.org/2000/svg\" height=\"24px\"viewBox=\"0 0 24 24\"\n",
              "       width=\"24px\">\n",
              "    <path d=\"M0 0h24v24H0V0z\" fill=\"none\"/>\n",
              "    <path d=\"M18.56 5.44l.94 2.06.94-2.06 2.06-.94-2.06-.94-.94-2.06-.94 2.06-2.06.94zm-11 1L8.5 8.5l.94-2.06 2.06-.94-2.06-.94L8.5 2.5l-.94 2.06-2.06.94zm10 10l.94 2.06.94-2.06 2.06-.94-2.06-.94-.94-2.06-.94 2.06-2.06.94z\"/><path d=\"M17.41 7.96l-1.37-1.37c-.4-.4-.92-.59-1.43-.59-.52 0-1.04.2-1.43.59L10.3 9.45l-7.72 7.72c-.78.78-.78 2.05 0 2.83L4 21.41c.39.39.9.59 1.41.59.51 0 1.02-.2 1.41-.59l7.78-7.78 2.81-2.81c.8-.78.8-2.07 0-2.86zM5.41 20L4 18.59l7.72-7.72 1.47 1.35L5.41 20z\"/>\n",
              "  </svg>\n",
              "      </button>\n",
              "      \n",
              "  <style>\n",
              "    .colab-df-container {\n",
              "      display:flex;\n",
              "      flex-wrap:wrap;\n",
              "      gap: 12px;\n",
              "    }\n",
              "\n",
              "    .colab-df-convert {\n",
              "      background-color: #E8F0FE;\n",
              "      border: none;\n",
              "      border-radius: 50%;\n",
              "      cursor: pointer;\n",
              "      display: none;\n",
              "      fill: #1967D2;\n",
              "      height: 32px;\n",
              "      padding: 0 0 0 0;\n",
              "      width: 32px;\n",
              "    }\n",
              "\n",
              "    .colab-df-convert:hover {\n",
              "      background-color: #E2EBFA;\n",
              "      box-shadow: 0px 1px 2px rgba(60, 64, 67, 0.3), 0px 1px 3px 1px rgba(60, 64, 67, 0.15);\n",
              "      fill: #174EA6;\n",
              "    }\n",
              "\n",
              "    [theme=dark] .colab-df-convert {\n",
              "      background-color: #3B4455;\n",
              "      fill: #D2E3FC;\n",
              "    }\n",
              "\n",
              "    [theme=dark] .colab-df-convert:hover {\n",
              "      background-color: #434B5C;\n",
              "      box-shadow: 0px 1px 3px 1px rgba(0, 0, 0, 0.15);\n",
              "      filter: drop-shadow(0px 1px 2px rgba(0, 0, 0, 0.3));\n",
              "      fill: #FFFFFF;\n",
              "    }\n",
              "  </style>\n",
              "\n",
              "      <script>\n",
              "        const buttonEl =\n",
              "          document.querySelector('#df-e2088808-7769-4d91-9aee-29a0362d4bed button.colab-df-convert');\n",
              "        buttonEl.style.display =\n",
              "          google.colab.kernel.accessAllowed ? 'block' : 'none';\n",
              "\n",
              "        async function convertToInteractive(key) {\n",
              "          const element = document.querySelector('#df-e2088808-7769-4d91-9aee-29a0362d4bed');\n",
              "          const dataTable =\n",
              "            await google.colab.kernel.invokeFunction('convertToInteractive',\n",
              "                                                     [key], {});\n",
              "          if (!dataTable) return;\n",
              "\n",
              "          const docLinkHtml = 'Like what you see? Visit the ' +\n",
              "            '<a target=\"_blank\" href=https://colab.research.google.com/notebooks/data_table.ipynb>data table notebook</a>'\n",
              "            + ' to learn more about interactive tables.';\n",
              "          element.innerHTML = '';\n",
              "          dataTable['output_type'] = 'display_data';\n",
              "          await google.colab.output.renderOutput(dataTable, element);\n",
              "          const docLink = document.createElement('div');\n",
              "          docLink.innerHTML = docLinkHtml;\n",
              "          element.appendChild(docLink);\n",
              "        }\n",
              "      </script>\n",
              "    </div>\n",
              "  </div>\n",
              "  "
            ],
            "text/plain": [
              "      indie rock italiano  italian pop  ...  deep german hip hop  turkish trap\n",
              "0                       0            0  ...                    0             0\n",
              "1                       0            0  ...                    0             0\n",
              "2                       0            0  ...                    0             0\n",
              "3                       0            0  ...                    0             0\n",
              "4                       0            0  ...                    0             0\n",
              "...                   ...          ...  ...                  ...           ...\n",
              "1551                    0            0  ...                    0             0\n",
              "1552                    0            0  ...                    0             0\n",
              "1553                    0            0  ...                    0             0\n",
              "1554                    0            0  ...                    0             0\n",
              "1555                    0            0  ...                    0             0\n",
              "\n",
              "[1556 rows x 336 columns]"
            ]
          },
          "metadata": {},
          "execution_count": 64
        }
      ]
    },
    {
      "cell_type": "code",
      "source": [
        "newdataset = pd.concat([dataset,genre_df], axis=1)"
      ],
      "metadata": {
        "id": "7MCXnfvy3Rlu"
      },
      "execution_count": 65,
      "outputs": []
    },
    {
      "cell_type": "code",
      "source": [
        "newdataset.isnull().sum()"
      ],
      "metadata": {
        "colab": {
          "base_uri": "https://localhost:8080/"
        },
        "id": "n49icP5vwZrf",
        "outputId": "6b6fc3fc-d1ea-41a4-9df2-57ce1fecf650"
      },
      "execution_count": 66,
      "outputs": [
        {
          "output_type": "execute_result",
          "data": {
            "text/plain": [
              "Index                        0\n",
              "Highest Charting Position    0\n",
              "Number of Times Charted      0\n",
              "Week of Highest Charting     0\n",
              "Song Name                    0\n",
              "                            ..\n",
              "moombahton                   0\n",
              "pittsburgh rap               0\n",
              "new orleans rap              0\n",
              "deep german hip hop          0\n",
              "turkish trap                 0\n",
              "Length: 359, dtype: int64"
            ]
          },
          "metadata": {},
          "execution_count": 66
        }
      ]
    },
    {
      "cell_type": "code",
      "source": [
        "dataset=newdataset"
      ],
      "metadata": {
        "id": "AtT5KMSw4yF6"
      },
      "execution_count": 67,
      "outputs": []
    },
    {
      "cell_type": "code",
      "source": [
        "dataset.drop(['Song ID', 'Song Name'],axis=1, inplace=True)"
      ],
      "metadata": {
        "id": "WfcjVQoPMVfm"
      },
      "execution_count": 68,
      "outputs": []
    },
    {
      "cell_type": "code",
      "source": [
        "dataset.drop(['Genre'],axis=1, inplace=True)\n"
      ],
      "metadata": {
        "id": "ltrZUXb45gRo"
      },
      "execution_count": 69,
      "outputs": []
    },
    {
      "cell_type": "code",
      "source": [
        "dataset.columns"
      ],
      "metadata": {
        "id": "51mH1SX1Svhz",
        "colab": {
          "base_uri": "https://localhost:8080/"
        },
        "outputId": "e9e39226-3b91-4845-b1c5-6a6b25b62392"
      },
      "execution_count": 70,
      "outputs": [
        {
          "output_type": "execute_result",
          "data": {
            "text/plain": [
              "Index(['Index', 'Highest Charting Position', 'Number of Times Charted',\n",
              "       'Week of Highest Charting', 'Streams', 'Artist', 'Artist Followers',\n",
              "       'Release Date', 'Weeks Charted', 'Popularity',\n",
              "       ...\n",
              "       'albanian hip hop', 'venezuelan hip hop', 'meme rap', 'grime',\n",
              "       'brega funk', 'moombahton', 'pittsburgh rap', 'new orleans rap',\n",
              "       'deep german hip hop', 'turkish trap'],\n",
              "      dtype='object', length=356)"
            ]
          },
          "metadata": {},
          "execution_count": 70
        }
      ]
    },
    {
      "cell_type": "markdown",
      "source": [
        "seeing the percentage of space in each column"
      ],
      "metadata": {
        "id": "HCDnGpW3TGKv"
      }
    },
    {
      "cell_type": "code",
      "source": [
        "dataset['Artist Followers'] = dataset['Artist Followers'].replace(' ', np.nan)\n",
        "# dataset['Genre'] = dataset['Genre'].replace(' ', np.nan)\n",
        "\n",
        "dataset['Release Date'] = dataset['Release Date'].replace(' ', np.nan)\n",
        "dataset['Popularity'] = dataset['Popularity'].replace(' ', np.nan)\n",
        "dataset['Danceability'] = dataset['Danceability'].replace(' ', np.nan)\n",
        "dataset['Energy'] = dataset['Energy'].replace(' ', np.nan)\n",
        "dataset['Loudness'] = dataset['Loudness'].replace(' ', np.nan)\n",
        "dataset['Speechiness'] = dataset['Speechiness'].replace(' ', np.nan)\n",
        "dataset['Acousticness'] = dataset['Acousticness'].replace(' ', np.nan)\n",
        "dataset['Liveness'] = dataset['Liveness'].replace(' ', np.nan)\n",
        "dataset['Tempo'] = dataset['Tempo'].replace(' ', np.nan)\n",
        "dataset['Duration (ms)'] = dataset['Duration (ms)'].replace(' ', np.nan)\n",
        "dataset['Valence'] = dataset['Valence'].replace(' ', np.nan)\n",
        "dataset['Chord'] = dataset['Chord'].replace(' ', np.nan)"
      ],
      "metadata": {
        "id": "sljkQJt0Wg7j"
      },
      "execution_count": 71,
      "outputs": []
    },
    {
      "cell_type": "code",
      "source": [
        "# print(dataset[dataset['Genre'].isnull()].index.tolist())\n",
        "print(dataset[dataset['Release Date'].isnull()].index.tolist())\n",
        "print(dataset[dataset['Popularity'].isnull()].index.tolist())\n",
        "print(dataset[dataset['Danceability'].isnull()].index.tolist())\n",
        "print(dataset[dataset['Energy'].isnull()].index.tolist())\n",
        "print(dataset[dataset['Loudness'].isnull()].index.tolist())\n",
        "print(dataset[dataset['Speechiness'].isnull()].index.tolist())\n",
        "print(dataset[dataset['Acousticness'].isnull()].index.tolist())\n",
        "print(dataset[dataset['Liveness'].isnull()].index.tolist())\n",
        "print(dataset[dataset['Tempo'].isnull()].index.tolist())\n",
        "print(dataset[dataset['Duration (ms)'].isnull()].index.tolist())\n",
        "print(dataset[dataset['Valence'].isnull()].index.tolist())\n",
        "print(dataset[dataset['Chord'].isnull()].index.tolist())"
      ],
      "metadata": {
        "id": "nTZ22bBTaK5f",
        "colab": {
          "base_uri": "https://localhost:8080/"
        },
        "outputId": "040c62f9-50c4-4dd2-efef-8b41b3119f22"
      },
      "execution_count": 72,
      "outputs": [
        {
          "output_type": "stream",
          "name": "stdout",
          "text": [
            "[35, 163, 464, 530, 636, 654, 750, 784, 876, 1140, 1538]\n",
            "[35, 163, 464, 530, 636, 654, 750, 784, 876, 1140, 1538]\n",
            "[35, 163, 464, 530, 636, 654, 750, 784, 876, 1140, 1538]\n",
            "[35, 163, 464, 530, 636, 654, 750, 784, 876, 1140, 1538]\n",
            "[35, 163, 464, 530, 636, 654, 750, 784, 876, 1140, 1538]\n",
            "[35, 163, 464, 530, 636, 654, 750, 784, 876, 1140, 1538]\n",
            "[35, 163, 464, 530, 636, 654, 750, 784, 876, 1140, 1538]\n",
            "[35, 163, 464, 530, 636, 654, 750, 784, 876, 1140, 1538]\n",
            "[35, 163, 464, 530, 636, 654, 750, 784, 876, 1140, 1538]\n",
            "[35, 163, 464, 530, 636, 654, 750, 784, 876, 1140, 1538]\n",
            "[35, 163, 464, 530, 636, 654, 750, 784, 876, 1140, 1538]\n",
            "[35, 163, 464, 530, 636, 654, 750, 784, 876, 1140, 1538]\n"
          ]
        }
      ]
    },
    {
      "cell_type": "code",
      "source": [
        "dataset.dropna(inplace=True)"
      ],
      "metadata": {
        "id": "7JKZvnWiasga"
      },
      "execution_count": 73,
      "outputs": []
    },
    {
      "cell_type": "code",
      "source": [
        "dataset.isnull().sum()"
      ],
      "metadata": {
        "id": "DqcgNihyVeZm",
        "colab": {
          "base_uri": "https://localhost:8080/"
        },
        "outputId": "1a89831b-4bf8-46d7-b67f-0800458bf35e"
      },
      "execution_count": 74,
      "outputs": [
        {
          "output_type": "execute_result",
          "data": {
            "text/plain": [
              "Index                        0\n",
              "Highest Charting Position    0\n",
              "Number of Times Charted      0\n",
              "Week of Highest Charting     0\n",
              "Streams                      0\n",
              "                            ..\n",
              "moombahton                   0\n",
              "pittsburgh rap               0\n",
              "new orleans rap              0\n",
              "deep german hip hop          0\n",
              "turkish trap                 0\n",
              "Length: 356, dtype: int64"
            ]
          },
          "metadata": {},
          "execution_count": 74
        }
      ]
    },
    {
      "cell_type": "code",
      "source": [
        "dataset['Streams'] # check data haru kun type ma xa"
      ],
      "metadata": {
        "id": "pVt26lPqe6c_",
        "colab": {
          "base_uri": "https://localhost:8080/"
        },
        "outputId": "e3870a7c-c05d-46f8-8856-5f0ddac112d9"
      },
      "execution_count": 75,
      "outputs": [
        {
          "output_type": "execute_result",
          "data": {
            "text/plain": [
              "0       48,633,449\n",
              "1       47,248,719\n",
              "2       40,162,559\n",
              "3       37,799,456\n",
              "4       33,948,454\n",
              "           ...    \n",
              "1551     4,630,675\n",
              "1552     4,623,030\n",
              "1553     4,620,876\n",
              "1554     4,607,385\n",
              "1555     4,595,450\n",
              "Name: Streams, Length: 1545, dtype: object"
            ]
          },
          "metadata": {},
          "execution_count": 75
        }
      ]
    },
    {
      "cell_type": "code",
      "source": [
        "dataset['Streams'].replace(',','', regex=True, inplace=True)\n",
        "dataset['Streams'] = dataset['Streams'].astype(int)"
      ],
      "metadata": {
        "id": "dhlC0LJPgUuA"
      },
      "execution_count": 76,
      "outputs": []
    },
    {
      "cell_type": "code",
      "source": [
        "splitted_charting = dataset['Week of Highest Charting'].str.split(\"-\", expand=True)\n",
        "a = splitted_charting[6].astype(int)\n",
        "b = splitted_charting[2].astype(int)\n",
        "c = abs(np.array(a)-np.array(b))\n",
        "dataset['timecharted'] = c\n",
        "dataset.drop(['Week of Highest Charting'],axis=1, inplace=True)"
      ],
      "metadata": {
        "id": "-nA48OYaXNPE"
      },
      "execution_count": 77,
      "outputs": []
    },
    {
      "cell_type": "code",
      "source": [
        "dataset.info()"
      ],
      "metadata": {
        "id": "6K4f-BJqXOjB",
        "colab": {
          "base_uri": "https://localhost:8080/"
        },
        "outputId": "d2d7d212-e3f6-4948-ddd8-67fb82058d9e"
      },
      "execution_count": 78,
      "outputs": [
        {
          "output_type": "stream",
          "name": "stdout",
          "text": [
            "<class 'pandas.core.frame.DataFrame'>\n",
            "Int64Index: 1545 entries, 0 to 1555\n",
            "Columns: 356 entries, Index to timecharted\n",
            "dtypes: int64(341), object(15)\n",
            "memory usage: 4.2+ MB\n"
          ]
        }
      ]
    },
    {
      "cell_type": "code",
      "source": [
        "dataset['Artist Followers'] = dataset['Artist Followers'].astype(int)\n",
        "dataset['Popularity'] = dataset['Popularity'].astype(int)\n",
        "dataset['Danceability'] = dataset['Danceability'].astype(float)\n",
        "dataset['Energy'] = dataset['Energy'].astype(float)\n",
        "dataset['Loudness'] = dataset['Loudness'].astype(float)\n",
        "dataset['Speechiness'] = dataset['Speechiness'].astype(float)\n",
        "dataset['Acousticness'] = dataset['Acousticness'].astype(float)\n",
        "dataset['Liveness'] = dataset['Liveness'].astype(float)\n",
        "dataset['Tempo'] = dataset['Tempo'].astype(float)\n",
        "dataset['Duration (ms)'] = dataset['Duration (ms)'].astype(int)\n",
        "dataset['Valence'] = dataset['Valence'].astype(float)"
      ],
      "metadata": {
        "id": "N4m7feyrb2-W"
      },
      "execution_count": 79,
      "outputs": []
    },
    {
      "cell_type": "code",
      "source": [
        "dataset.info()"
      ],
      "metadata": {
        "id": "OsieaGUwYzAG",
        "colab": {
          "base_uri": "https://localhost:8080/"
        },
        "outputId": "665df6b7-232f-43c5-c536-339d34c455df"
      },
      "execution_count": 80,
      "outputs": [
        {
          "output_type": "stream",
          "name": "stdout",
          "text": [
            "<class 'pandas.core.frame.DataFrame'>\n",
            "Int64Index: 1545 entries, 0 to 1555\n",
            "Columns: 356 entries, Index to timecharted\n",
            "dtypes: float64(8), int64(344), object(4)\n",
            "memory usage: 4.2+ MB\n"
          ]
        }
      ]
    },
    {
      "cell_type": "markdown",
      "source": [
        "scatter plots"
      ],
      "metadata": {
        "id": "yAy8KRMCgZaz"
      }
    },
    {
      "cell_type": "code",
      "source": [
        "corr=dataset.corr()\n",
        "plt.figure(figsize=(20,20))\n",
        "sns.heatmap(corr,annot=True,cmap=\"GnBu\")"
      ],
      "metadata": {
        "id": "lKJAuGGoftBH",
        "colab": {
          "base_uri": "https://localhost:8080/",
          "height": 1000
        },
        "outputId": "dd05ad8f-f18a-47f7-edaa-3857b845eeb8"
      },
      "execution_count": 81,
      "outputs": [
        {
          "output_type": "execute_result",
          "data": {
            "text/plain": [
              "<matplotlib.axes._subplots.AxesSubplot at 0x7f94ebe73910>"
            ]
          },
          "metadata": {},
          "execution_count": 81
        },
        {
          "output_type": "display_data",
          "data": {
            "image/png": "[encoded data removed]",
            "text/plain": [
              "<Figure size 1440x1440 with 2 Axes>"
            ]
          },
          "metadata": {
            "needs_background": "light"
          }
        }
      ]
    },
    {
      "cell_type": "markdown",
      "source": [
        "aba correlation bata -ve ako sab delete"
      ],
      "metadata": {
        "id": "_ZjbWQNPiAch"
      }
    },
    {
      "cell_type": "code",
      "source": [
        "dataset.drop(['Index'], axis=1, inplace=True)"
      ],
      "metadata": {
        "id": "HRuveifBh_0g"
      },
      "execution_count": 82,
      "outputs": []
    },
    {
      "cell_type": "code",
      "source": [
        "# dataset.drop(['Highest Charting Position','Number of Times Charted','Danceability','Loudness','Speechiness'], axis=1, inplace=True)"
      ],
      "metadata": {
        "id": "s0xCzQ2evecb"
      },
      "execution_count": null,
      "outputs": []
    },
    {
      "cell_type": "code",
      "source": [
        "dataset.info()"
      ],
      "metadata": {
        "id": "b9r4M3aPimrJ",
        "colab": {
          "base_uri": "https://localhost:8080/"
        },
        "outputId": "96327a89-8c47-4dd1-c392-548940ace7bf"
      },
      "execution_count": 83,
      "outputs": [
        {
          "output_type": "stream",
          "name": "stdout",
          "text": [
            "<class 'pandas.core.frame.DataFrame'>\n",
            "Int64Index: 1545 entries, 0 to 1555\n",
            "Columns: 355 entries, Highest Charting Position to timecharted\n",
            "dtypes: float64(8), int64(343), object(4)\n",
            "memory usage: 4.2+ MB\n"
          ]
        }
      ]
    },
    {
      "cell_type": "markdown",
      "source": [
        "encoding string values"
      ],
      "metadata": {
        "id": "-Tw_1cokjAPE"
      }
    },
    {
      "cell_type": "code",
      "source": [
        "np.unique(dataset['Artist'], return_counts=True) # no eraisng artist and Release Date because there are more than one in some cases"
      ],
      "metadata": {
        "id": "6t9JEXJzkq2d",
        "colab": {
          "base_uri": "https://localhost:8080/"
        },
        "outputId": "10b03e68-ec70-4e73-abf5-4d50f01a06f2"
      },
      "execution_count": 84,
      "outputs": [
        {
          "output_type": "execute_result",
          "data": {
            "text/plain": [
              "(array(['*NSYNC',\n",
              "        '13 Organisé, SCH, Kofs, Jul, Naps, Soso Maness, Elams, Solda, Houari',\n",
              "        '187 Strassenbande, Bonez MC, Frauenarzt',\n",
              "        '21 Savage, Metro Boomin', '24kGoldn', '347aidan',\n",
              "        '5 Seconds of Summer', '6ix9ine', 'A Boogie Wit da Hoodie',\n",
              "        'A$AP Ferg', 'AC/DC', 'ATB, Topic, A7S', 'AURORA', 'Adele',\n",
              "        'Agust D', 'Alan Walker, Ava Max', 'Alec Benjamin',\n",
              "        'Alex Rose, Rafa Pabön', 'Alex Rose, Rauw Alejandro',\n",
              "        'Alexander 23', 'Ali Gatie', 'Alida, Robin Schulz',\n",
              "        'Alok, Mc Don Juan, Dj GBR', 'Andy Williams', 'Anitta',\n",
              "        'Anitta, Lexa, Luísa Sonza', 'Anne-Marie',\n",
              "        'Anne-Marie, KSI, Digital Farm Animals', 'Anne-Marie, Little Mix',\n",
              "        'Anne-Marie, Niall Horan', 'Ant Saunders', 'Anuel AA',\n",
              "        'Anuel AA, Bad Bunny',\n",
              "        'Anuel AA, Daddy Yankee, KAROL G, Ozuna, J Balvin',\n",
              "        'Anuel AA, Ozuna', 'Apache 207', 'Arcangel, Bad Bunny',\n",
              "        'Arcangel, Sech, Romeo Santos', 'Arctic Monkeys', 'Ariana Grande',\n",
              "        'Arizona Zervas', 'Ashe', 'Ashnikko', 'Ava Max', 'Avicii',\n",
              "        'Aya Nakamura', 'BANDIDO', 'BANNERS', 'BENEE, Gus Dapperton',\n",
              "        'BIA', 'BLACKPINK', 'BLANCO, Sfera Ebbasta', 'BROCKHAMPTON', 'BTS',\n",
              "        'Baby Keem', 'Bad Bunny', 'Bad Bunny, ABRA', 'Bad Bunny, Anuel AA',\n",
              "        'Bad Bunny, Daddy Yankee', 'Bad Bunny, Don Omar',\n",
              "        'Bad Bunny, Duki, Pablo Chill-E', 'Bad Bunny, Gabriela',\n",
              "        'Bad Bunny, Jhay Cortez', 'Bad Bunny, Jowell & Randy, Ñengo Flow',\n",
              "        'Bad Bunny, Kendo Kaponi, Arcangel', 'Bad Bunny, Mora',\n",
              "        'Bad Bunny, Myke Towers', 'Bad Bunny, Nicky Jam',\n",
              "        'Bad Bunny, ROSALÍA', 'Bad Bunny, Sech', 'Bad Bunny, Tainy',\n",
              "        'Bad Bunny, Yaviah', 'Bad Bunny, Zion & Lennox',\n",
              "        'Bad Bunny, Ñengo Flow', 'Band Aid',\n",
              "        'Banda MS de Sergio Lizárraga, Snoop Dogg', 'Barbara Pravi', 'Bas',\n",
              "        'Bausa, Apache 207', 'Bausa, Juju', 'Bazzi', 'Bea Miller',\n",
              "        'Beach Bunny', 'Bebe Rexha', 'Becky G, El Alfa', 'Bella Poarch',\n",
              "        'Belly, The Weeknd, Young Thug', 'Beyoncé',\n",
              "        'Beyoncé, Megan Thee Stallion', 'Big Red Machine', 'Big Sean',\n",
              "        'Billie Eilish', 'Bing Crosby',\n",
              "        'Bing Crosby, Ken Darby Singers, John Scott Trotter & His Orchestra',\n",
              "        'Bizarrap, Eladio Carrion', 'Bizarrap, L-Gante',\n",
              "        'Bizarrap, Nathy Peluso', 'Bizarrap, Nicky Jam',\n",
              "        'Bizarrap, Snow Tha Product', 'Black Eyed Peas, J Balvin',\n",
              "        'Black Eyed Peas, Ozuna, J. Rey Soul', 'Black Eyed Peas, Shakira',\n",
              "        'Blind Channel', 'Blxst, Tyga', 'Bo Burnham', 'Bobby Helms',\n",
              "        'Bonez MC', 'Bonez MC, Maxwell', 'Booba, JSX',\n",
              "        'Boomdabash, Alessandra Amoroso', 'Bosh', 'Boza', 'Brenda Lee',\n",
              "        'Brent Faiyaz', 'Brent Faiyaz, DJ Dahi', 'Brett Eldredge',\n",
              "        'Bring Me The Horizon', 'Britney Spears', 'Bruce Springsteen',\n",
              "        'Bruno Mars', 'Bruno Mars, Anderson .Paak, Silk Sonic',\n",
              "        'Bryson Tiller', 'Burl Ives', 'BØRNS', 'C. Tangana, Ed Maverick',\n",
              "        'C. Tangana, Niño de Elche, La Húngara', 'CJ',\n",
              "        'CORPSE, Savage Ga$p', 'Cali Y El Dandee, Danna Paola',\n",
              "        'Calvin Harris', 'Camila Cabello', 'Camilo', 'Camilo, El Alfa',\n",
              "        'Camilo, Evaluna Montaner', 'Camilo, Pedro Capó',\n",
              "        'Camilo, Shawn Mendes', 'Capital Bra', 'Capital Bra, Bozza',\n",
              "        'Capital Bra, Clueso, KC Rebell', 'Capital Bra, Cro',\n",
              "        'Capital Bra, Loredana', 'Capital Bra, Samra', 'Cardi B',\n",
              "        'Childish Gambino', 'Chris Brown', 'Chris Brown, Young Thug',\n",
              "        'Christian Nodal', 'Christian Nodal, Ángela Aguilar',\n",
              "        'Chuck Berry', 'Clairo', 'Clean Bandit, Mabel', 'Cochise, $NOT',\n",
              "        'Coldplay', 'Conan Gray', 'Conkarah', 'Cordae',\n",
              "        'Crissin, Totoy El Frio, Natan & Shander', 'Curtis Waters', 'DDG',\n",
              "        'DJ Ivis', 'DJ Ivis, Tarcísio do Acordeon', 'DJ Khaled',\n",
              "        'DJ Snake', 'DJ Snake, J Balvin', 'DMX', 'DaBaby', 'Daddy Yankee',\n",
              "        'Daddy Yankee, Anuel AA, Kendo Kaponi', 'Daddy Yankee, Sech',\n",
              "        'Daddy Yankee, Snow', 'Dadá Boladão, Tati Zaqui, OIK',\n",
              "        'Dalex, Lenny Tavárez, Anitta, Natti Natasha, Farruko, Justin Quiles',\n",
              "        'Dalex, Lenny Tavárez, Chencho Corleone, Juhn, Dímelo Flow',\n",
              "        'Dalex, Sech', 'Damso', 'Damso, Hamza', 'Dan + Shay',\n",
              "        'Dardan, Monet192', 'Darlene Love', 'Daryl Hall & John Oates',\n",
              "        'Dave', 'Daði Freyr', 'Dean Lewis', 'Dean Martin', 'Demi Lovato',\n",
              "        'Diego & Victor Hugo, Bruno & Marrone', 'Dj Guuga, DJ Ivis',\n",
              "        'Doja Cat', 'Doja Cat, The Weeknd', 'Dominic Fike', 'Don Toliver',\n",
              "        'Donny Hathaway', 'Drake', 'Drake, WizKid, Kyla', 'Dream',\n",
              "        'DripReport', 'Dua Lipa', 'Dua Lipa, Angèle', 'Duncan Laurence',\n",
              "        'Dímelo Flow, Arcangel, Sech', 'Eagles', 'Earth, Wind & Fire',\n",
              "        'Eartha Kitt, Henri Rene & His Orchestra', 'Ed Sheeran',\n",
              "        'El Alfa, Chael Produciendo', 'Ellie Goulding', 'Elton John',\n",
              "        'Elvis Presley', 'ElyOtto', 'Emilia, Duki', 'Eminem',\n",
              "        'Erica Banks', 'Farruko', 'Fedez, Achille Lauro',\n",
              "        'Feid, J Balvin, Justin Quiles', 'Feid, Justin Quiles',\n",
              "        'Fleetwood Mac', 'Fousheé', 'Francesca Michielin, Fedez',\n",
              "        'Frank Sinatra', 'French Montana', 'Future',\n",
              "        'Future, Drake, Young Thug', 'Future, Lil Uzi Vert',\n",
              "        'G Herbo, Juice WRLD, Lil Uzi Vert, Chance the Rapper', 'G-Eazy',\n",
              "        'Galantis', 'Gambi', 'Gera MX, Christian Nodal', 'Giveon',\n",
              "        \"Gjon's Tears\", 'Glass Animals', 'Go_A', 'Gotye, Kimbra',\n",
              "        \"Gradur, Heuss L'enfoiré\", 'Gunna', 'Gusttavo Lima',\n",
              "        'Gwen Stefani', 'Gym Class Heroes', 'Gzuz', 'H.E.R.', 'HVME',\n",
              "        'Halsey', 'Harry Nach', 'Harry Styles', 'Headie One',\n",
              "        'Headie One, Drake', 'Henrique & Juliano', 'Hippie Sabotage',\n",
              "        'Hozier', 'Hugo & Guilherme', 'ITZY', 'IU', 'Idina Menzel',\n",
              "        'Idina Menzel, AURORA', 'Imagine Dragons', 'Ingratax',\n",
              "        'Internet Money', 'Internet Money, Diplo',\n",
              "        'Internet Money, Gunna, Don Toliver, NAV', 'Israel & Rodolffo',\n",
              "        'Israel & Rodolffo, Wesley Safadão', 'J Balvin',\n",
              "        'J Balvin, Bad Bunny', 'J Balvin, Dua Lipa, Bad Bunny',\n",
              "        'J Balvin, KAROL G, Nicky Jam, Crissin, Totoy El Frio, Natan & Shander',\n",
              "        'J Balvin, Khalid', 'J Balvin, Maria Becerra', 'J Balvin, Mr Eazi',\n",
              "        'J Balvin, Skrillex', 'J Balvin, Sky Rompiendo', 'J. Cole',\n",
              "        'J. Cole, Young Thug', 'JACKBOYS',\n",
              "        'JACKBOYS, Pop Smoke, Travis Scott', 'JACKBOYS, Sheck Wes',\n",
              "        'JACKBOYS, Travis Scott', 'JP Saxe', 'Jack Harlow', 'James Arthur',\n",
              "        'Jamie Miller', 'Jason Derulo', 'Jason Derulo, Maroon 5',\n",
              "        'Jason Derulo, Nuka', 'Jason Derulo, Puri, Jhorrmountain',\n",
              "        'Jason Mraz', 'Jawsh 685, Jason Derulo',\n",
              "        'Jay Wheeler, DJ Nelson, Myke Towers', 'Jerry Di',\n",
              "        'Jhay Cortez, Anuel AA, J Balvin', 'Jhay Cortez, Bad Bunny',\n",
              "        'Jhay Cortez, J Balvin, Bad Bunny', 'Jhené Aiko', 'Joel Corry',\n",
              "        'Joel Corry, RAYE, David Guetta', 'John Legend',\n",
              "        'John Lennon, Yoko Ono', 'John Mayer', 'Joji', 'Joji, BENEE',\n",
              "        'Joji, Diplo', 'Joker Bra, VIZE', 'Jonas Brothers',\n",
              "        'Jonas Esticado', 'Jorge & Mateus', 'José Feliciano', 'Journey',\n",
              "        'Jowell & Randy, J Balvin', 'Joyner Lucas, Lil Baby', 'João Gomes',\n",
              "        'João Gomes, Vitor Fernandes', 'Juanfran', 'Juice WRLD',\n",
              "        'Juice WRLD, Polo G', 'Juice WRLD, The Kid LAROI',\n",
              "        'Juju, Loredana, Miksu / Macloud', 'Justin Bieber',\n",
              "        'Justin Bieber, Kehlani', 'Justin Bieber, Quavo', 'Justin Quiles',\n",
              "        'Justin Quiles, Chimbala, Zion & Lennox',\n",
              "        'Justin Quiles, Daddy Yankee, El Alfa',\n",
              "        'Justin Quiles, Natti Natasha, Farruko', 'Justin Timberlake',\n",
              "        'Justin Wellington, Small Jam', 'K CAMP',\n",
              "        'K/DA, (G)I-DLE, Wolftyla, Bea Miller, League of Legends',\n",
              "        'K/DA, Madison Beer, (G)I-DLE, Lexie Liu, Jaira Burns, Seraphine, League of Legends',\n",
              "        'KALIM, Ufo361', 'KAROL G', 'KAROL G, Anuel AA',\n",
              "        'KAROL G, Anuel AA, J Balvin', 'KAROL G, Mariah Angeliq',\n",
              "        'KAROL G, Nicki Minaj', 'KASIMIR1441, badmómzjay, WILDBWOYS',\n",
              "        'KC Rebell, Summer Cem', 'KHEA', 'KHEA, Duki', 'KSI', 'Kali Uchis',\n",
              "        'Kane Brown', 'Kane Brown, blackbear', 'Kanye West, Travis Scott',\n",
              "        'Katy Perry', 'Kawe, Mc Lele JP', 'Kehlani', 'Kelly Clarkson',\n",
              "        'Kendrick Lamar, Jay Rock', 'Kevin Roldan, Bryant Myers, Lyanno',\n",
              "        'Khalid', 'Khalid, Disclosure', 'Kid Cudi', 'Kina',\n",
              "        'Kina, Adriana Proenza', 'KitschKrieg, Jamule, SFR', 'Kontra K',\n",
              "        'Kygo, Donna Summer', 'Kygo, Kim Petras', 'Kygo, OneRepublic',\n",
              "        'Kygo, Sandro Cavazza', 'Kygo, Sasha Alex Sloan',\n",
              "        'Kygo, Tina Turner', 'Kygo, Whitney Houston', 'Kygo, Zak Abel',\n",
              "        'Kygo, Zara Larsson, Tyga', 'Kylie Minogue', 'Labrinth',\n",
              "        'Lady Gaga', 'Lady Gaga, Bradley Cooper', 'Lana Del Rey', 'Lauv',\n",
              "        'Lauv, Conan Gray', 'Lauv, LANY', 'Lauv, Troye Sivan', 'Lele Pons',\n",
              "        'Leona Lewis', 'Lewis Capaldi', 'Liam Payne', 'Lil Baby',\n",
              "        'Lil Baby, Lil Durk', 'Lil Mosey', 'Lil Nas X',\n",
              "        'Lil Nas X, Billy Ray Cyrus', 'Lil Peep', 'Lil Tecca', 'Lil Tjay',\n",
              "        'Lil Tjay, 6LACK', 'Lil Uzi Vert', 'Lil Uzi Vert, 21 Savage',\n",
              "        'Lil Wayne', 'Lil Yachty', 'Linkin Park', 'Little Mix', 'Lizzo',\n",
              "        'Logic', 'Lorde', 'Los Legendarios, Wisin, Jhay Cortez',\n",
              "        'Luan Santana', 'Luciano', 'Luke Combs',\n",
              "        'Lunay, Daddy Yankee, Bad Bunny',\n",
              "        'Lunay, Myke Towers, Ozuna, Chencho Corleone, Rauw Alejandro',\n",
              "        'Lunay, Ozuna, Anuel AA', 'Luísa Sonza',\n",
              "        'Luísa Sonza, Pabllo Vittar, Anitta', 'MARINA', 'MAX',\n",
              "        'MC Kevin o Chris', 'MC Zaquin, MC Rick', 'MEDUZA',\n",
              "        'MEDUZA, Becky Hill, Goodboys', 'MEDUZA, Goodboys',\n",
              "        'MYA, TINI, Duki', 'Mabel', 'Mac Miller', 'Machine Gun Kelly',\n",
              "        'Macklemore & Ryan Lewis', 'Madame', 'Madison Beer', 'Maes, Booba',\n",
              "        'Majestic, Boney M.', 'Major Lazer, Diplo', 'Malu, DJ Lucas Beat',\n",
              "        'Maluma',\n",
              "        'Maluma, Beéle, Rauw Alejandro, Mambo Kingz, DJ Luian, Darell',\n",
              "        'Maluma, Lenny Tavárez', 'Maluma, The Weeknd', 'Manuel Turizo',\n",
              "        'Manuel Turizo, Rauw Alejandro, Myke Towers',\n",
              "        'Marc Seguí, Rauw Alejandro, Pol Granch', 'Mari Fernandez',\n",
              "        'Mariah Carey', 'Maroon 5', 'Maroon 5, Wiz Khalifa', 'Marshmello',\n",
              "        'Marshmello, Bastille', 'Marshmello, Demi Lovato', 'Martin Garrix',\n",
              "        'Masked Wolf', 'Master KG', 'Matheus Fernandes, Dilsinho',\n",
              "        'Matthew Wilder', 'Matuê', 'Mc Davi, Mc Pedrinho, Mc Don Juan',\n",
              "        'Mc Poze do Rodo, Neo Beats, Mainstreet', 'Mc Zaac, Anitta, Tyga',\n",
              "        'Meek Mill', 'Megan Thee Stallion', 'Meghan Trainor',\n",
              "        'Melanie Martinez', 'Michael Bublé', 'Michael Jackson', 'Migos',\n",
              "        'Migos, Travis Scott, Young Thug', 'Migrantes, Alico',\n",
              "        'Miksu / Macloud, Summer Cem, Luciano, Jamule', 'Miley Cyrus',\n",
              "        'Milly, Farruko, Nio Garcia, Jay Wheeler, Amenazzy', 'Mimi Webb',\n",
              "        'Money Man', 'Mora, Bad Bunny, Sech', 'Mora, Jhay Cortez',\n",
              "        'Morgan Wallen', 'Mother Mother', 'Murda, Ezhel', 'Mustard',\n",
              "        'Myke Towers', 'Myke Towers, Juhn',\n",
              "        'Mykola Dmytrovych Leontovych, John Williams', 'Måneskin', 'NAV',\n",
              "        'NAV, Gunna', 'NF', 'NF, Hopsin', 'NLE Choppa', 'Nat King Cole',\n",
              "        'Natalie Taylor', 'Nathan Evans', 'Natti Natasha, Becky G', 'Nea',\n",
              "        'Nelly Furtado, Timbaland', 'Niack', 'Niall Horan', 'Nicki Minaj',\n",
              "        'Nicky Jam, Anuel AA', 'Nicky Jam, Daddy Yankee',\n",
              "        'Nicky Jam, Myke Towers', 'Nicky Jam, Romeo Santos', 'Ninho',\n",
              "        'Nio Garcia, Anuel AA, Myke Towers, Brray, Juanka',\n",
              "        'Nio Garcia, Casper Magico, Ozuna, Wisin & Yandel, Myke Towers, Flow La Movie',\n",
              "        'Nio Garcia, Flow La Movie', 'Nio Garcia, J Balvin, Bad Bunny',\n",
              "        'Nirvana', 'Noah Cyrus', 'Normani', 'Oasis', 'Octavian, Skepta',\n",
              "        'Ofenbach', 'Ofenbach, Quarterhead', 'Olivia Rodrigo',\n",
              "        'One Direction', 'OneRepublic', 'Os Barões Da Pisadinha',\n",
              "        'Os Barões Da Pisadinha, Xand Avião', 'Ozuna', 'Ozuna, Camilo',\n",
              "        'Ozuna, Doja Cat, Sia', 'Ozuna, J Balvin, Chencho Corleone',\n",
              "        'Ozuna, KAROL G, Myke Towers', 'P!nk, Willow Sage Hart',\n",
              "        'PARTYNEXTDOOR, Rihanna',\n",
              "        'PEDRO SAMPAIO, Felipe Original, JS o Mão de Ouro', 'PUBLIC',\n",
              "        'Pamungkas', 'Panic! At The Disco', 'Pashanim', 'Passenger',\n",
              "        'Paul McCartney', 'Peach Tree Rascals', 'Pedro Capó, Farruko',\n",
              "        'Pentatonix', 'Perry Como, The Fontane Sisters',\n",
              "        'Petter Ferraz, Menor Nico', 'Pink Sweat$',\n",
              "        'Piso 21, Christian Nodal', 'Playboi Carti', 'Polo G',\n",
              "        'Polo G, Stunna 4 Vegas',\n",
              "        'Polo G, Stunna 4 Vegas, NLE Choppa, Mike WiLL Made-It',\n",
              "        'Pooh Shiesty', 'Pop Smoke', 'Pop Smoke, Rowdy Rebel',\n",
              "        'Post Malone', 'Post Malone, Swae Lee', 'Powfu, beabadoobee',\n",
              "        'Queen', 'RAF Camora, Bonez MC', 'ROSALÍA',\n",
              "        'ROSALÍA, J Balvin, El Guincho', 'ROSALÍA, Ozuna', 'ROSÉ',\n",
              "        'Rauw Alejandro', 'Rauw Alejandro, Anuel AA',\n",
              "        'Rauw Alejandro, Anuel AA, Natti Natasha, Farruko, Lunay',\n",
              "        'Rauw Alejandro, Chencho Corleone',\n",
              "        'Rauw Alejandro, Chencho Corleone, KEVVO, Bryant Myers, Lyanno, Dalex',\n",
              "        'Rauw Alejandro, Dalex, Lenny Tavárez', 'Rauw Alejandro, Farruko',\n",
              "        'Rauw Alejandro, J Balvin', 'Rauw Alejandro, Mr. Naisgai',\n",
              "        'Raí Saia Rodada', 'Red Velvet', 'Red Velvet - IRENE & SEULGI',\n",
              "        'Regard', 'Regard, RAYE', 'Regard, Troye Sivan, Tate McRae',\n",
              "        'Reik, J Balvin, Lalo Ebratt', 'Residente',\n",
              "        'Rich Music LTD, Sech, Dalex, Justin Quiles, Lenny Tavárez, Feid',\n",
              "        'Rich Music LTD, Sech, Dalex, Justin Quiles, Lenny Tavárez, Feid, Wisin, Zion',\n",
              "        'Riton, Nightcrawlers', 'Riton, Oliver Heldens', 'Ritt Momney',\n",
              "        'Robin Schulz', 'Robin Schulz, Wes',\n",
              "        'Rochy RD, Myke Towers, Nicki Nicole', 'Rod Wave', 'Roddy Ricch',\n",
              "        'Rusherking, KHEA, Duki, Maria Becerra, LIT killah, Tiago PZK',\n",
              "        'Russ Millions, Tion Wayne', 'Rvssian, Anuel AA, Juice WRLD',\n",
              "        'S1mba', 'SAINt JHN', 'SHAED', 'SHAED, ZAYN', 'SZA',\n",
              "        'SZA, Justin Timberlake',\n",
              "        'SZA, The Neptunes, Pharrell Williams, Ty Dolla $ign',\n",
              "        'Sabrina Carpenter', 'Sam Feldt', 'Sam Fischer',\n",
              "        'Sam Fischer, Demi Lovato', 'Sam Smith', 'Samra', 'Samra, ELIF',\n",
              "        'Sara Kays', 'Sarah Cothran', 'Saweetie',\n",
              "        'Sebastian Yatra, Guaynaa', 'Sebastian Yatra, Myke Towers', 'Sech',\n",
              "        'Sech, Daddy Yankee',\n",
              "        'Sech, Daddy Yankee, J Balvin, ROSALÍA, Farruko', 'Sech, J Balvin',\n",
              "        'Sech, Jhay Cortez', 'Sech, Ozuna',\n",
              "        'Sech, Ozuna, Anuel AA, Darell, Nicky Jam', 'Selena Gomez',\n",
              "        'Sfera Ebbasta', 'Shablo', \"Shakin' Stevens\", 'Shakira',\n",
              "        'Shakira, Anuel AA', 'Shawn Mendes',\n",
              "        'Shawn Mendes, Camila Cabello', 'Shirin David', 'Shiva, Eiffel 65',\n",
              "        'Shouse', 'Sia', 'Sia, David Guetta', 'Sleepy Hallow',\n",
              "        'Sleepy Hallow, Fousheé', 'Smiley', 'Soso Maness', 'StarBoi3',\n",
              "        'StaySolidRocky', 'StaySolidRocky, Lil Uzi Vert', 'Stevie Wonder',\n",
              "        'Stormzy', 'Studio Killers', 'Sub Urban', 'Surf Curse',\n",
              "        'Surf Mesa', 'Surfaces', 'THE SCOTTS, Travis Scott, Kid Cudi',\n",
              "        'TINI, Maria Becerra', 'TOKYO’S REVENGE',\n",
              "        'TOMORROW X TOGETHER, Seori', 'TWICE', 'Tainy', 'Tame Impala',\n",
              "        'Tarcísio do Acordeon', 'Tate McRae', 'Tate McRae, Khalid',\n",
              "        'Taylor Swift', 'The 1975', 'The Beach Boys',\n",
              "        'The Chainsmokers, Coldplay', 'The Chainsmokers, Halsey',\n",
              "        'The Chainsmokers, ILLENIUM, Lennon Stella',\n",
              "        'The Chainsmokers, Kygo', 'The Jackson 5', 'The Kid LAROI',\n",
              "        'The Killers', 'The Neighbourhood', 'The Pogues', 'The Police',\n",
              "        'The Ronettes', 'The Weeknd', 'The Weeknd, Daft Punk',\n",
              "        'Thiaguinho MT, Mila, JS o Mão de Ouro', 'Tiago PZK, LIT killah',\n",
              "        'Tion Wayne, Russ Millions', 'Tiësto', 'Tom Grennan', 'Tom Odell',\n",
              "        'Tones And I', 'Tony Bennett', 'Topic, A7S', 'Tory Lanez',\n",
              "        'Tory Lanez, Jack Harlow', 'Travis Scott', 'Travis Scott, HVME',\n",
              "        'Travis Scott, Young Thug', 'Trevor Daniel', 'Trinidad Cardona',\n",
              "        'Trio Vegabajeño', 'Trippie Redd', 'Trippie Redd, DaBaby',\n",
              "        'Trippie Redd, Lil Uzi Vert', 'Trippie Redd, PARTYNEXTDOOR',\n",
              "        'Trueno, Bizarrap, Taiu, TATOOL', 'Twenty One Pilots',\n",
              "        'Ty Dolla $ign', 'Tyga', 'Tyla Yaweh', 'Tyler, The Creator',\n",
              "        'Ufo361', 'Ufo361, CÉLINE', 'Ufo361, Future', 'Ufo361, Sonus030',\n",
              "        'VIZE, Tom Gregory', 'Vance Joy', 'Vedo', 'Vegedream',\n",
              "        'Vicetone, Tony Igy', 'WILLOW', 'Walker Hayes', 'Wallows',\n",
              "        'Wesley Safadão, Os Barões Da Pisadinha', 'Wham!', 'WhoHeem',\n",
              "        'Wisin, Jhay Cortez, Anuel AA, Los Legendarios, Myke Towers',\n",
              "        'Wisin, Myke Towers, Los Legendarios', 'XXXTENTACION',\n",
              "        'Y2K, bbno$', 'YNW Melly', 'Yandel, Bad Bunny',\n",
              "        'Young Stoner Life, Young Thug, Gunna', 'ZAYN', 'Zoe Wees',\n",
              "        'Zuna, Loredana, SRNO', 'a-ha', 'benny blanco', 'blackbear',\n",
              "        'dhruv', 'iann dior', 'jxdn', 'salem ilese', 'sangiovanni',\n",
              "        'twocolors'], dtype=object),\n",
              " array([ 1,  1,  1, 12,  4,  1,  5,  4,  4,  1,  1,  1,  1,  1,  1,  1,  1,\n",
              "         1,  1,  1,  2,  1,  1,  1,  2,  1,  2,  1,  1,  1,  1,  5,  1,  1,\n",
              "         2,  7,  1,  1,  2, 18,  2,  1,  2,  6,  2,  2,  1,  1,  1,  1,  9,\n",
              "         1,  1, 29,  1, 28,  1,  1,  1,  1,  1,  1,  1,  1,  1,  1,  1,  1,\n",
              "         1,  1,  1,  1,  1,  1,  1,  1,  1,  1,  1,  1,  2,  1,  1,  1,  1,\n",
              "         1,  1,  1,  1,  1,  2, 18,  1,  1,  1,  1,  1,  1,  1,  1,  1,  1,\n",
              "         1,  1,  2,  1,  6,  1,  1,  1,  1,  1,  1,  1,  1,  1,  2,  1,  1,\n",
              "         3,  1,  1,  1,  1,  1,  1,  1,  1,  1,  3,  4,  4,  1,  2,  1,  1,\n",
              "         1,  1,  1,  1,  1,  1,  2,  1,  1,  1,  1,  1,  1,  1,  1,  1,  3,\n",
              "         2,  1,  1,  1,  1,  1,  1,  1,  5,  2,  1,  2, 14,  2,  1,  1,  1,\n",
              "         1,  1,  1,  1,  1,  1,  1,  1,  1,  1,  2,  1,  1,  3,  3,  1,  1,\n",
              "        16,  1,  1,  5,  1, 19,  1,  1,  1, 15,  1,  1,  1,  1,  1,  1,  9,\n",
              "         1,  1,  1,  1,  1,  1, 22,  1,  2,  1,  1,  1,  1,  1,  1,  3,  1,\n",
              "         5,  1,  4,  1,  2,  1,  1,  1,  1,  1,  1,  1,  1,  1,  5,  2,  1,\n",
              "         2,  1,  1,  1,  4,  1,  5,  1,  1,  2,  1,  1,  1,  3,  1,  1,  1,\n",
              "         4,  1,  3,  1,  1,  1,  1,  9,  2,  1,  1,  1,  1,  1,  1,  1, 16,\n",
              "         1,  1,  1,  1,  2,  1,  4,  2,  1,  1,  1,  1,  1,  1,  2,  1,  1,\n",
              "         1,  1,  1,  1,  1,  1,  1,  1,  2,  8,  1,  1,  1,  5,  1,  3,  1,\n",
              "         1,  1,  1,  2,  1,  1, 30,  1,  1,  1, 32,  1,  1,  2,  1,  1,  1,\n",
              "         1,  1,  1,  1,  1,  1,  2,  1,  1,  1,  1,  1,  2,  1,  1,  4,  1,\n",
              "         1,  1,  1,  4,  1,  1,  1,  1,  1,  4,  1, 12,  1,  1,  1,  1,  1,\n",
              "         1,  1,  1,  1,  1,  1,  1,  1,  1,  1, 14,  1,  3,  4,  1,  1,  1,\n",
              "         1,  1,  3,  1, 10,  2,  2,  6,  1,  1,  3,  3,  1, 32,  1,  1,  3,\n",
              "         1,  2,  3,  1,  1,  1,  1,  2,  1,  1,  1,  1,  2,  1,  1,  1,  1,\n",
              "         1,  1,  1,  1,  1,  1, 11,  6,  1,  1,  2,  1,  1,  1,  1,  6,  1,\n",
              "         1,  1,  1,  1,  1,  1,  2,  5,  1,  2,  1,  1,  3,  1,  1,  1,  1,\n",
              "         1,  1,  1,  1,  1,  6,  2,  1,  3,  1,  6,  1,  1,  1,  6,  1,  1,\n",
              "         1,  1,  1,  7,  1,  1,  1,  3,  1,  1,  4,  1,  1,  1,  1,  3,  2,\n",
              "         1,  1,  1,  1,  1,  2,  3,  2,  1,  1,  1,  1,  1,  1,  1,  1,  1,\n",
              "         1,  1,  1,  2,  1,  1,  1, 12,  2,  2,  2,  1,  2,  1,  1,  1,  1,\n",
              "         1,  1,  1,  1,  1,  1,  2,  1,  2,  1,  1,  1,  1,  1,  1,  1,  2,\n",
              "        11,  1,  1,  1, 29,  1, 10,  1,  1,  3,  1,  1,  1,  1,  2,  6,  1,\n",
              "         1,  1,  1,  1,  1,  1,  1,  1,  1,  1,  1,  1,  1,  1,  1,  1,  1,\n",
              "         1,  1,  1,  1,  1,  1,  3,  5,  1,  1,  1,  1,  1,  1,  1,  1,  1,\n",
              "         1,  1,  1,  1,  1,  9,  3,  1,  1,  1,  3,  1,  1,  3,  1,  1,  1,\n",
              "         1,  1,  1, 17,  4,  1,  1,  1,  1,  5,  1,  2,  1,  1,  3,  1,  1,\n",
              "         1,  1,  1,  1,  1,  1,  1,  1,  1,  1,  1,  1,  1,  1,  1,  1,  1,\n",
              "         3,  1,  5,  1,  1,  1, 52,  1,  1,  1,  1,  1,  1,  2,  8,  1,  2,\n",
              "         1,  1,  1, 21,  2,  1,  1,  1,  1,  1,  1,  4,  1,  1,  3,  1,  9,\n",
              "         1,  1,  1,  1,  1,  1,  1,  1,  1,  1,  5,  2,  2,  1, 14,  4,  1,\n",
              "         1,  1,  1,  1,  1,  1,  1,  1,  1,  1,  1,  1,  1,  1,  1,  7,  1,\n",
              "         3,  1,  3,  2,  1,  1,  1,  2,  3,  1,  1,  1,  1,  1,  1]))"
            ]
          },
          "metadata": {},
          "execution_count": 84
        }
      ]
    },
    {
      "cell_type": "code",
      "source": [
        "# Genre_encoder = LabelEncoder()\n",
        "# dataset['Genre'] = Genre_encoder.fit_transform(dataset['Genre'])\n",
        "\n",
        "Release_Date_encoder = LabelEncoder()\n",
        "dataset['Release Date'] = Release_Date_encoder.fit_transform(dataset['Release Date'])\n",
        "\n",
        "week_of_highest_charting_encoder = LabelEncoder()\n",
        "dataset['Artist'] = week_of_highest_charting_encoder.fit_transform(dataset['Artist'])\n",
        "\n",
        "chord_encoder = LabelEncoder()\n",
        "dataset['Chord'] = chord_encoder.fit_transform(dataset['Chord'])\n",
        "\n",
        "chord_encoder = LabelEncoder()\n",
        "dataset['Weeks Charted'] = chord_encoder.fit_transform(dataset['Weeks Charted'])\n"
      ],
      "metadata": {
        "id": "F8k0KV339H_C"
      },
      "execution_count": 85,
      "outputs": []
    },
    {
      "cell_type": "code",
      "source": [
        "dataset.info()"
      ],
      "metadata": {
        "id": "c0t4krbRUHrL",
        "colab": {
          "base_uri": "https://localhost:8080/"
        },
        "outputId": "935185c9-35c2-4d65-9cdb-9ef195d70bc9"
      },
      "execution_count": 86,
      "outputs": [
        {
          "output_type": "stream",
          "name": "stdout",
          "text": [
            "<class 'pandas.core.frame.DataFrame'>\n",
            "Int64Index: 1545 entries, 0 to 1555\n",
            "Columns: 355 entries, Highest Charting Position to timecharted\n",
            "dtypes: float64(8), int64(347)\n",
            "memory usage: 4.2 MB\n"
          ]
        }
      ]
    },
    {
      "cell_type": "code",
      "source": [
        "dataset.head(1)"
      ],
      "metadata": {
        "id": "7w31DDFyjNCW",
        "colab": {
          "base_uri": "https://localhost:8080/",
          "height": 224
        },
        "outputId": "5cc9d2d6-163d-4b94-86eb-8f4b19b4c162"
      },
      "execution_count": 87,
      "outputs": [
        {
          "output_type": "execute_result",
          "data": {
            "text/html": [
              "\n",
              "  <div id=\"df-0bfc4418-7bd0-4712-be03-c5e8bbaf879f\">\n",
              "    <div class=\"colab-df-container\">\n",
              "      <div>\n",
              "<style scoped>\n",
              "    .dataframe tbody tr th:only-of-type {\n",
              "        vertical-align: middle;\n",
              "    }\n",
              "\n",
              "    .dataframe tbody tr th {\n",
              "        vertical-align: top;\n",
              "    }\n",
              "\n",
              "    .dataframe thead th {\n",
              "        text-align: right;\n",
              "    }\n",
              "</style>\n",
              "<table border=\"1\" class=\"dataframe\">\n",
              "  <thead>\n",
              "    <tr style=\"text-align: right;\">\n",
              "      <th></th>\n",
              "      <th>Highest Charting Position</th>\n",
              "      <th>Number of Times Charted</th>\n",
              "      <th>Streams</th>\n",
              "      <th>Artist</th>\n",
              "      <th>Artist Followers</th>\n",
              "      <th>Release Date</th>\n",
              "      <th>Weeks Charted</th>\n",
              "      <th>Popularity</th>\n",
              "      <th>Danceability</th>\n",
              "      <th>Energy</th>\n",
              "      <th>Loudness</th>\n",
              "      <th>Speechiness</th>\n",
              "      <th>Acousticness</th>\n",
              "      <th>Liveness</th>\n",
              "      <th>Tempo</th>\n",
              "      <th>Duration (ms)</th>\n",
              "      <th>Valence</th>\n",
              "      <th>Chord</th>\n",
              "      <th>indie rock italiano</th>\n",
              "      <th>italian pop</th>\n",
              "      <th>australian hip hop</th>\n",
              "      <th>pop</th>\n",
              "      <th>uk pop</th>\n",
              "      <th>lgbtq+ hip hop</th>\n",
              "      <th>pop rap</th>\n",
              "      <th>dance pop</th>\n",
              "      <th>puerto rican pop</th>\n",
              "      <th>trap latino</th>\n",
              "      <th>latin</th>\n",
              "      <th>reggaeton</th>\n",
              "      <th>reggaeton colombiano</th>\n",
              "      <th>k-pop</th>\n",
              "      <th>k-pop boy group</th>\n",
              "      <th>canadian pop</th>\n",
              "      <th>post-teen pop</th>\n",
              "      <th>canadian contemporary r&amp;b</th>\n",
              "      <th>gauze pop</th>\n",
              "      <th>indietronica</th>\n",
              "      <th>shiver pop</th>\n",
              "      <th>latin hip hop</th>\n",
              "      <th>...</th>\n",
              "      <th>pop reggaeton</th>\n",
              "      <th>trap chileno</th>\n",
              "      <th>west coast rap</th>\n",
              "      <th>jazz funk</th>\n",
              "      <th>belgian hip hop</th>\n",
              "      <th>rap belge</th>\n",
              "      <th>r&amp;b brasileiro</th>\n",
              "      <th>rap cearense</th>\n",
              "      <th>trap brasileiro</th>\n",
              "      <th>scandipop</th>\n",
              "      <th>swedish pop</th>\n",
              "      <th>indie r&amp;b</th>\n",
              "      <th>jawaiian</th>\n",
              "      <th>florida rap</th>\n",
              "      <th>acoustic pop</th>\n",
              "      <th>german cloud rap</th>\n",
              "      <th>perreo</th>\n",
              "      <th>christlicher rap</th>\n",
              "      <th>philly rap</th>\n",
              "      <th>indie rockism</th>\n",
              "      <th>german underground rap</th>\n",
              "      <th>k-rap</th>\n",
              "      <th>chicago drill</th>\n",
              "      <th>drill</th>\n",
              "      <th>banda</th>\n",
              "      <th>corrido</th>\n",
              "      <th>norteno</th>\n",
              "      <th>alternative pop rock</th>\n",
              "      <th>minnesota hip hop</th>\n",
              "      <th>albanian hip hop</th>\n",
              "      <th>venezuelan hip hop</th>\n",
              "      <th>meme rap</th>\n",
              "      <th>grime</th>\n",
              "      <th>brega funk</th>\n",
              "      <th>moombahton</th>\n",
              "      <th>pittsburgh rap</th>\n",
              "      <th>new orleans rap</th>\n",
              "      <th>deep german hip hop</th>\n",
              "      <th>turkish trap</th>\n",
              "      <th>timecharted</th>\n",
              "    </tr>\n",
              "  </thead>\n",
              "  <tbody>\n",
              "    <tr>\n",
              "      <th>0</th>\n",
              "      <td>1</td>\n",
              "      <td>8</td>\n",
              "      <td>48633449</td>\n",
              "      <td>469</td>\n",
              "      <td>3377762</td>\n",
              "      <td>112</td>\n",
              "      <td>711</td>\n",
              "      <td>100</td>\n",
              "      <td>0.714</td>\n",
              "      <td>0.8</td>\n",
              "      <td>-4.808</td>\n",
              "      <td>0.0504</td>\n",
              "      <td>0.127</td>\n",
              "      <td>0.359</td>\n",
              "      <td>134.002</td>\n",
              "      <td>211560</td>\n",
              "      <td>0.589</td>\n",
              "      <td>2</td>\n",
              "      <td>0</td>\n",
              "      <td>0</td>\n",
              "      <td>0</td>\n",
              "      <td>0</td>\n",
              "      <td>0</td>\n",
              "      <td>0</td>\n",
              "      <td>0</td>\n",
              "      <td>0</td>\n",
              "      <td>0</td>\n",
              "      <td>0</td>\n",
              "      <td>0</td>\n",
              "      <td>0</td>\n",
              "      <td>0</td>\n",
              "      <td>0</td>\n",
              "      <td>0</td>\n",
              "      <td>0</td>\n",
              "      <td>0</td>\n",
              "      <td>0</td>\n",
              "      <td>0</td>\n",
              "      <td>0</td>\n",
              "      <td>0</td>\n",
              "      <td>0</td>\n",
              "      <td>...</td>\n",
              "      <td>0</td>\n",
              "      <td>0</td>\n",
              "      <td>0</td>\n",
              "      <td>0</td>\n",
              "      <td>0</td>\n",
              "      <td>0</td>\n",
              "      <td>0</td>\n",
              "      <td>0</td>\n",
              "      <td>0</td>\n",
              "      <td>0</td>\n",
              "      <td>0</td>\n",
              "      <td>0</td>\n",
              "      <td>0</td>\n",
              "      <td>0</td>\n",
              "      <td>0</td>\n",
              "      <td>0</td>\n",
              "      <td>0</td>\n",
              "      <td>0</td>\n",
              "      <td>0</td>\n",
              "      <td>0</td>\n",
              "      <td>0</td>\n",
              "      <td>0</td>\n",
              "      <td>0</td>\n",
              "      <td>0</td>\n",
              "      <td>0</td>\n",
              "      <td>0</td>\n",
              "      <td>0</td>\n",
              "      <td>0</td>\n",
              "      <td>0</td>\n",
              "      <td>0</td>\n",
              "      <td>0</td>\n",
              "      <td>0</td>\n",
              "      <td>0</td>\n",
              "      <td>0</td>\n",
              "      <td>0</td>\n",
              "      <td>0</td>\n",
              "      <td>0</td>\n",
              "      <td>0</td>\n",
              "      <td>0</td>\n",
              "      <td>7</td>\n",
              "    </tr>\n",
              "  </tbody>\n",
              "</table>\n",
              "<p>1 rows × 355 columns</p>\n",
              "</div>\n",
              "      <button class=\"colab-df-convert\" onclick=\"convertToInteractive('df-0bfc4418-7bd0-4712-be03-c5e8bbaf879f')\"\n",
              "              title=\"Convert this dataframe to an interactive table.\"\n",
              "              style=\"display:none;\">\n",
              "        \n",
              "  <svg xmlns=\"http://www.w3.org/2000/svg\" height=\"24px\"viewBox=\"0 0 24 24\"\n",
              "       width=\"24px\">\n",
              "    <path d=\"M0 0h24v24H0V0z\" fill=\"none\"/>\n",
              "    <path d=\"M18.56 5.44l.94 2.06.94-2.06 2.06-.94-2.06-.94-.94-2.06-.94 2.06-2.06.94zm-11 1L8.5 8.5l.94-2.06 2.06-.94-2.06-.94L8.5 2.5l-.94 2.06-2.06.94zm10 10l.94 2.06.94-2.06 2.06-.94-2.06-.94-.94-2.06-.94 2.06-2.06.94z\"/><path d=\"M17.41 7.96l-1.37-1.37c-.4-.4-.92-.59-1.43-.59-.52 0-1.04.2-1.43.59L10.3 9.45l-7.72 7.72c-.78.78-.78 2.05 0 2.83L4 21.41c.39.39.9.59 1.41.59.51 0 1.02-.2 1.41-.59l7.78-7.78 2.81-2.81c.8-.78.8-2.07 0-2.86zM5.41 20L4 18.59l7.72-7.72 1.47 1.35L5.41 20z\"/>\n",
              "  </svg>\n",
              "      </button>\n",
              "      \n",
              "  <style>\n",
              "    .colab-df-container {\n",
              "      display:flex;\n",
              "      flex-wrap:wrap;\n",
              "      gap: 12px;\n",
              "    }\n",
              "\n",
              "    .colab-df-convert {\n",
              "      background-color: #E8F0FE;\n",
              "      border: none;\n",
              "      border-radius: 50%;\n",
              "      cursor: pointer;\n",
              "      display: none;\n",
              "      fill: #1967D2;\n",
              "      height: 32px;\n",
              "      padding: 0 0 0 0;\n",
              "      width: 32px;\n",
              "    }\n",
              "\n",
              "    .colab-df-convert:hover {\n",
              "      background-color: #E2EBFA;\n",
              "      box-shadow: 0px 1px 2px rgba(60, 64, 67, 0.3), 0px 1px 3px 1px rgba(60, 64, 67, 0.15);\n",
              "      fill: #174EA6;\n",
              "    }\n",
              "\n",
              "    [theme=dark] .colab-df-convert {\n",
              "      background-color: #3B4455;\n",
              "      fill: #D2E3FC;\n",
              "    }\n",
              "\n",
              "    [theme=dark] .colab-df-convert:hover {\n",
              "      background-color: #434B5C;\n",
              "      box-shadow: 0px 1px 3px 1px rgba(0, 0, 0, 0.15);\n",
              "      filter: drop-shadow(0px 1px 2px rgba(0, 0, 0, 0.3));\n",
              "      fill: #FFFFFF;\n",
              "    }\n",
              "  </style>\n",
              "\n",
              "      <script>\n",
              "        const buttonEl =\n",
              "          document.querySelector('#df-0bfc4418-7bd0-4712-be03-c5e8bbaf879f button.colab-df-convert');\n",
              "        buttonEl.style.display =\n",
              "          google.colab.kernel.accessAllowed ? 'block' : 'none';\n",
              "\n",
              "        async function convertToInteractive(key) {\n",
              "          const element = document.querySelector('#df-0bfc4418-7bd0-4712-be03-c5e8bbaf879f');\n",
              "          const dataTable =\n",
              "            await google.colab.kernel.invokeFunction('convertToInteractive',\n",
              "                                                     [key], {});\n",
              "          if (!dataTable) return;\n",
              "\n",
              "          const docLinkHtml = 'Like what you see? Visit the ' +\n",
              "            '<a target=\"_blank\" href=https://colab.research.google.com/notebooks/data_table.ipynb>data table notebook</a>'\n",
              "            + ' to learn more about interactive tables.';\n",
              "          element.innerHTML = '';\n",
              "          dataTable['output_type'] = 'display_data';\n",
              "          await google.colab.output.renderOutput(dataTable, element);\n",
              "          const docLink = document.createElement('div');\n",
              "          docLink.innerHTML = docLinkHtml;\n",
              "          element.appendChild(docLink);\n",
              "        }\n",
              "      </script>\n",
              "    </div>\n",
              "  </div>\n",
              "  "
            ],
            "text/plain": [
              "   Highest Charting Position  ...  timecharted\n",
              "0                          1  ...            7\n",
              "\n",
              "[1 rows x 355 columns]"
            ]
          },
          "metadata": {},
          "execution_count": 87
        }
      ]
    },
    {
      "cell_type": "markdown",
      "source": [
        "checking for normalizing data\n"
      ],
      "metadata": {
        "id": "jWikHpjIEP05"
      }
    },
    {
      "cell_type": "code",
      "source": [
        "for col in dataset.columns:\n",
        "  dataset[col] = (dataset[col] - dataset[col].min()) / (dataset[col].max() - dataset[col].min())\n"
      ],
      "metadata": {
        "id": "KuI9xaUEGigL"
      },
      "execution_count": 88,
      "outputs": []
    },
    {
      "cell_type": "markdown",
      "source": [
        "Split data into training and testing\n"
      ],
      "metadata": {
        "id": "lSZsOSYpl8U3"
      }
    },
    {
      "cell_type": "code",
      "source": [
        "corr=dataset.corr()\n",
        "plt.figure(figsize=(20,20))\n",
        "sns.heatmap(corr,annot=True,cmap=\"GnBu\")"
      ],
      "metadata": {
        "id": "3dnT_gQUctEy",
        "colab": {
          "base_uri": "https://localhost:8080/",
          "height": 1000
        },
        "outputId": "e305a1de-158b-4b6b-ec72-ba593bc4bbcf"
      },
      "execution_count": 89,
      "outputs": [
        {
          "output_type": "execute_result",
          "data": {
            "text/plain": [
              "<matplotlib.axes._subplots.AxesSubplot at 0x7f94e36f4250>"
            ]
          },
          "metadata": {},
          "execution_count": 89
        },
        {
          "output_type": "display_data",
          "data": {
            "image/png": "[encoded data removed]",
            "text/plain": [
              "<Figure size 1440x1440 with 2 Axes>"
            ]
          },
          "metadata": {
            "needs_background": "light"
          }
        }
      ]
    },
    {
      "cell_type": "code",
      "source": [
        "dataset_unnormalized = dataset"
      ],
      "metadata": {
        "id": "Bs1EgbQRgGnQ"
      },
      "execution_count": 90,
      "outputs": []
    },
    {
      "cell_type": "code",
      "source": [
        "dataset.isnull().sum()"
      ],
      "metadata": {
        "colab": {
          "base_uri": "https://localhost:8080/"
        },
        "id": "zdjNp-Bhvk1x",
        "outputId": "e918ed66-aa82-4264-ba61-3a4ac112d20b"
      },
      "execution_count": 91,
      "outputs": [
        {
          "output_type": "execute_result",
          "data": {
            "text/plain": [
              "Highest Charting Position       0\n",
              "Number of Times Charted         0\n",
              "Streams                         0\n",
              "Artist                          0\n",
              "Artist Followers                0\n",
              "                             ... \n",
              "pittsburgh rap               1545\n",
              "new orleans rap              1545\n",
              "deep german hip hop          1545\n",
              "turkish trap                 1545\n",
              "timecharted                     0\n",
              "Length: 355, dtype: int64"
            ]
          },
          "metadata": {},
          "execution_count": 91
        }
      ]
    },
    {
      "cell_type": "code",
      "source": [
        "Y = dataset['Streams']\n",
        "dataset.drop(['Streams'], axis=1, inplace=True)\n",
        "X = dataset"
      ],
      "metadata": {
        "id": "IAs6C7Eal5ZF"
      },
      "execution_count": 92,
      "outputs": []
    },
    {
      "cell_type": "code",
      "source": [
        "Y.shape"
      ],
      "metadata": {
        "id": "Wwwfx_w29Qg9",
        "colab": {
          "base_uri": "https://localhost:8080/"
        },
        "outputId": "c603ad04-fcff-4f7c-cd36-cc0afb36919f"
      },
      "execution_count": 93,
      "outputs": [
        {
          "output_type": "execute_result",
          "data": {
            "text/plain": [
              "(1545,)"
            ]
          },
          "metadata": {},
          "execution_count": 93
        }
      ]
    },
    {
      "cell_type": "code",
      "source": [
        "X_train, X_test, Y_train, Y_test = train_test_split(X,Y)"
      ],
      "metadata": {
        "id": "nKhGU_1BmMu_"
      },
      "execution_count": 94,
      "outputs": []
    },
    {
      "cell_type": "code",
      "source": [
        "print(X_train.shape, Y_train.shape, X_test.shape, Y_test.shape)"
      ],
      "metadata": {
        "id": "vZxl0jfMmexk",
        "colab": {
          "base_uri": "https://localhost:8080/"
        },
        "outputId": "000cb2b5-242b-4f66-a105-37b0b46d1bcb"
      },
      "execution_count": 95,
      "outputs": [
        {
          "output_type": "stream",
          "name": "stdout",
          "text": [
            "(1158, 354) (1158,) (387, 354) (387,)\n"
          ]
        }
      ]
    },
    {
      "cell_type": "code",
      "source": [
        "linear_model = LinearRegression()\n",
        "linear_model.fit(X_train, Y_train)\n",
        "print(linear_model.score(X_train,Y_train))\n",
        "\n",
        "predicted = linear_model.predict(X_test)\n",
        "predicted_actual_dataframe = pd.DataFrame({\"predicted\": predicted, \"actual\": (Y_test)})\n",
        "print(predicted_actual_dataframe)\n",
        "\n",
        "r2_score(Y_test, predicted)\n"
      ],
      "metadata": {
        "id": "XeoXd00xoUhX"
      },
      "execution_count": null,
      "outputs": []
    },
    {
      "cell_type": "code",
      "source": [
        "second_model = RandomForestRegressor(n_estimators=100)\n",
        "second_model.fit(X_train,Y_train)\n",
        "second_model_pred = second_model.predict(X_test)\n",
        "r2_score(Y_test, second_model_pred)\n",
        "\n"
      ],
      "metadata": {
        "id": "YFzvVg5ipPfF"
      },
      "execution_count": null,
      "outputs": []
    },
    {
      "cell_type": "code",
      "source": [
        "\n",
        "random_regressor_model = RandomForestRegressor(criterion='squared_error', max_depth=None,min_samples_split=2, min_samples_leaf=1, min_weight_fraction_leaf=0.0, max_features='auto', max_leaf_nodes=None,bootstrap=True, oob_score=True, n_jobs=1, random_state=42, verbose=0, warm_start=False)\n",
        "random_regressor_model.fit(X_train,Y_train)\n",
        "random_regressor_model_pred = random_regressor_model.predict(X_test)\n",
        "r2_score(Y_test, random_regressor_model_pred)\n",
        "#model\n",
        "# hyperparameter\n",
        "#k value change\n",
        "#features\n",
        "#loop value \n",
        "#gradient boost"
      ],
      "metadata": {
        "id": "yP-ZfwC5wpTf"
      },
      "execution_count": null,
      "outputs": []
    },
    {
      "cell_type": "code",
      "source": [
        "from numpy import mean\n",
        "from numpy import std\n",
        "from sklearn.datasets import make_regression\n",
        "from sklearn.model_selection import cross_val_score\n",
        "from sklearn.model_selection import RepeatedKFold\n",
        "from sklearn.ensemble import BaggingRegressor\n",
        "# define dataset\n",
        "model = BaggingRegressor()\n",
        "# evaluate the model\n",
        "cv = RepeatedKFold(n_splits=10, n_repeats=3, random_state=1)\n",
        "n_scores = cross_val_score(model, X, Y, scoring='r2', cv=cv, n_jobs=-1, error_score='raise')\n",
        "# report performance\n",
        "n_scores.mean()\n",
        "\n",
        "# print('MAE: %.3f (%.3f)' % (mean(n_scores), n_scores.mean))"
      ],
      "metadata": {
        "id": "76RmjdlI05XZ"
      },
      "execution_count": null,
      "outputs": []
    },
    {
      "cell_type": "code",
      "source": [
        "X.head()"
      ],
      "metadata": {
        "id": "-Ffiu-irCOz0"
      },
      "execution_count": null,
      "outputs": []
    },
    {
      "cell_type": "code",
      "source": [
        "Y.shape"
      ],
      "metadata": {
        "id": "RyrmiJYMHel-"
      },
      "execution_count": null,
      "outputs": []
    },
    {
      "cell_type": "code",
      "source": [
        "from xgboost import XGBRegressor\n",
        "model = XGBRegressor()\n",
        "cv = RepeatedKFold(n_splits=10, n_repeats=3, random_state=1)\n",
        "scores = cross_val_score(model, X, Y, scoring='r2', cv=cv, n_jobs=-1)\n",
        "scores.mean()"
      ],
      "metadata": {
        "id": "njKfJozzej1a"
      },
      "execution_count": null,
      "outputs": []
    },
    {
      "cell_type": "code",
      "source": [
        "from sklearn.model_selection import KFold \n",
        "kf = RepeatedKFold(n_splits=5, n_repeats=10, random_state=None) \n",
        "random_regressor_model = RandomForestRegressor(criterion='squared_error', max_depth=None,min_samples_split=2, min_samples_leaf=1, min_weight_fraction_leaf=0.0, max_features='auto', max_leaf_nodes=None,bootstrap=True, oob_score=True, n_jobs=1, random_state=None, verbose=0, warm_start=False)\n",
        "r2 = []\n",
        "for train_index, test_index in kf.split(X):\n",
        "      # print(\"Train:\", train_index, \"Validation:\",test_index)\n",
        "      X_train, X_test = X.iloc[train_index], X.iloc[test_index] \n",
        "      Y_train, Y_test = Y.iloc[train_index], Y.iloc[test_index]\n",
        "      random_regressor_model.fit(X_train,Y_train)\n",
        "      random_regressor_model_pred = random_regressor_model.predict(X_test)\n",
        "      r2.append(r2_score(Y_test, random_regressor_model_pred))\n",
        "print(sum(r2)/len(r2))"
      ],
      "metadata": {
        "id": "e9Xz0_eS42C6"
      },
      "execution_count": null,
      "outputs": []
    },
    {
      "cell_type": "code",
      "source": [
        "X.shape"
      ],
      "metadata": {
        "id": "TxT-k9118p2C"
      },
      "execution_count": null,
      "outputs": []
    },
    {
      "cell_type": "code",
      "source": [
        "Y.shape"
      ],
      "metadata": {
        "id": "K_6XR8rA8pLb"
      },
      "execution_count": null,
      "outputs": []
    },
    {
      "cell_type": "code",
      "source": [
        "from numpy import mean\n",
        "from numpy import std\n",
        "from sklearn.datasets import make_regression\n",
        "from sklearn.model_selection import cross_val_score\n",
        "from sklearn.model_selection import RepeatedKFold\n",
        "from sklearn.ensemble import BaggingRegressor\n",
        "# define dataset\n",
        "# define the model\n",
        "model = BaggingRegressor()\n",
        "# evaluate the model\n",
        "cv = RepeatedKFold(n_splits=2, n_repeats=10, random_state=1)\n",
        "n_scores = cross_val_score(model, X, Y, scoring='neg_mean_absolute_error', cv=cv, n_jobs=-1, error_score='raise')\n",
        "# report performance\n",
        "print('MAE: %.3f (%.3f)' % (mean(n_scores), std(n_scores)))"
      ],
      "metadata": {
        "id": "UpFJegO_8fNn"
      },
      "execution_count": null,
      "outputs": []
    },
    {
      "cell_type": "code",
      "source": [
        "ridge_model = Ridge()\n",
        "ridge_model.fit(X_train, Y_train)\n",
        "print(\"score\",ridge_model.score(X_train, Y_train))\n",
        "ridge_predict = ridge_model.predict(X_test)\n",
        "r2_score(Y_test, ridge_predict)"
      ],
      "metadata": {
        "id": "RwxB_b5xsmFh"
      },
      "execution_count": null,
      "outputs": []
    },
    {
      "cell_type": "code",
      "source": [
        "lasso_model = Lasso()\n",
        "\n",
        "lasso_model.fit(X_train, Y_train)\n",
        "print(\"score\",lasso_model.score(X_train, Y_train))\n",
        "lasso_predict = lasso_model.predict(X_test)\n",
        "r2_score(Y_test, lasso_predict)"
      ],
      "metadata": {
        "id": "tD-mZlHKtHyM"
      },
      "execution_count": null,
      "outputs": []
    },
    {
      "cell_type": "code",
      "source": [
        "svr_model = SVR()\n",
        "\n",
        "svr_model.fit(X_train, Y_train)\n",
        "print(\"score\",svr_model.score(X_train, Y_train))\n",
        "svr_predict = svr_model.predict(X_test)\n",
        "r2_score(Y_test, svr_predict)"
      ],
      "metadata": {
        "id": "iQE-MuxItga2"
      },
      "execution_count": null,
      "outputs": []
    },
    {
      "cell_type": "code",
      "source": [
        "X_train.shape"
      ],
      "metadata": {
        "id": "obTD-6N1j9bS"
      },
      "execution_count": null,
      "outputs": []
    },
    {
      "cell_type": "code",
      "source": [
        "Y_train.shape"
      ],
      "metadata": {
        "id": "b5F5lQMBj_hY"
      },
      "execution_count": null,
      "outputs": []
    },
    {
      "cell_type": "code",
      "source": [
        "from sklearn.decomposition import PCA\n",
        "pca = PCA(n_components=10)\n",
        "principalComponents = pca.fit_transform(X)\n",
        "principalDf = pd.DataFrame(data = principalComponents\n",
        "             , columns = ['a', 'b', 'c','d','e','f','g','h','i','j'])"
      ],
      "metadata": {
        "id": "M1mKQk8au2u_"
      },
      "execution_count": null,
      "outputs": []
    },
    {
      "cell_type": "code",
      "source": [
        "#We will save the model performance metrics in a DataFrame\n",
        "from sklearn.metrics import mean_squared_error, r2_score\n",
        "from sklearn.model_selection import KFold, cross_val_score\n",
        "import numpy as np\n",
        "Model = []\n",
        "RMSE = []\n",
        "R_sq = []\n",
        "cv = RepeatedKFold(n_splits=10, n_repeats=3, random_state=1)\n",
        "#Creating a Function to append the cross validation scores of the algorithms\n",
        "def input_scores(name, model, x, y):\n",
        "    Model.append(name)\n",
        "    RMSE.append(np.sqrt((-1) * cross_val_score(model, x, y, cv=cv, \n",
        "                                               scoring='neg_mean_squared_error').mean()))\n",
        "    return cross_val_score(model, x, y, cv=cv, scoring='r2').mean()\n",
        "    # R_sq.append(cross_val_score(model, x, y, cv=cv, scoring='r2').mean())"
      ],
      "metadata": {
        "id": "xlnwpW6_kxmz"
      },
      "execution_count": null,
      "outputs": []
    },
    {
      "cell_type": "code",
      "source": [
        "from sklearn.linear_model import LinearRegression, Ridge, Lasso\n",
        "from sklearn.neighbors import KNeighborsRegressor\n",
        "from sklearn.tree import DecisionTreeRegressor\n",
        "from sklearn.ensemble import (RandomForestRegressor, GradientBoostingRegressor, \n",
        "                              AdaBoostRegressor)\n",
        "\n",
        "names = ['Linear Regression', 'Ridge Regression', 'Lasso Regression',\n",
        "         'K Neighbors Regressor', 'Decision Tree Regressor', \n",
        "         'Random Forest Regressor', 'Gradient Boosting Regressor',\n",
        "         'Adaboost Regressor']\n",
        "models = [LinearRegression(), Ridge(), Lasso(),\n",
        "          KNeighborsRegressor(), DecisionTreeRegressor(),\n",
        "          RandomForestRegressor(), GradientBoostingRegressor(), \n",
        "          AdaBoostRegressor()]\n",
        "\n",
        "#Running all algorithms\n",
        "for name, model in zip(names, models):\n",
        "    print(\"name\",input_scores(name, model, X, Y))"
      ],
      "metadata": {
        "id": "o6qnzBtJj5ER"
      },
      "execution_count": null,
      "outputs": []
    },
    {
      "cell_type": "code",
      "source": [
        "from sklearn.model_selection import GridSearchCV\n",
        "param_grid = {'n_estimators':range(20,1001,10),\n",
        "              'max_depth':[10], #range(5,16,2), \n",
        "              'min_samples_split':[100], #range(200,1001,200), \n",
        "              'learning_rate':[0.2]}\n",
        "clf = GridSearchCV(GradientBoostingRegressor(random_state=1), \n",
        "                   param_grid = param_grid, scoring='r2', \n",
        "                   cv=cv).fit(X, Y)\n",
        "print(clf.best_estimator_) \n",
        "print(\"R Squared:\",clf.best_score_)"
      ],
      "metadata": {
        "id": "yg0lUWsak5xE"
      },
      "execution_count": null,
      "outputs": []
    },
    {
      "cell_type": "code",
      "source": [
        "NN_model = Sequential()\n",
        "\n",
        "# The Input Layer :\n",
        "NN_model.add(Dense(128, kernel_initializer='normal',input_dim = X_train.shape[1], activation='relu'))\n",
        "\n",
        "# The Hidden Layers :\n",
        "NN_model.add(Dense(256, kernel_initializer='normal',activation='relu'))\n",
        "NN_model.add(Dense(256, kernel_initializer='normal',activation='relu'))\n",
        "NN_model.add(Dense(256, kernel_initializer='normal',activation='relu'))\n",
        "\n",
        "# The Output Layer :\n",
        "NN_model.add(Dense(1, kernel_initializer='normal',activation='linear'))\n",
        "\n",
        "# Compile the network :\n",
        "NN_model.compile(loss='mean_absolute_error', optimizer='adam', metrics=['mean_absolute_error'])\n",
        "NN_model.summary()"
      ],
      "metadata": {
        "id": "LGBj4MspmTf1"
      },
      "execution_count": null,
      "outputs": []
    },
    {
      "cell_type": "code",
      "source": [
        "checkpoint_name = 'weight1.hdf5' \n",
        "checkpoint = ModelCheckpoint(checkpoint_name, monitor='val_loss', verbose = 1, save_best_only = True, mode ='auto')\n",
        "callbacks_list = [checkpoint]"
      ],
      "metadata": {
        "id": "hA7PEBjJpOhs"
      },
      "execution_count": null,
      "outputs": []
    },
    {
      "cell_type": "code",
      "source": [
        "NN_model.fit(X_train, Y_train, epochs=500, batch_size=32, validation_split = 0.2, callbacks=callbacks_list)"
      ],
      "metadata": {
        "id": "eb7kqhBNpfHy"
      },
      "execution_count": null,
      "outputs": []
    },
    {
      "cell_type": "code",
      "source": [
        "DNN_predict=NN_model.predict(X_test)"
      ],
      "metadata": {
        "id": "y7LI4idupjtC"
      },
      "execution_count": null,
      "outputs": []
    },
    {
      "cell_type": "code",
      "source": [
        "r2_score(Y_test, DNN_predict)"
      ],
      "metadata": {
        "id": "EMFf7PZ8qKVN"
      },
      "execution_count": null,
      "outputs": []
    }
  ]
}